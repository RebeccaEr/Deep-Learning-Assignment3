{
 "cells": [
  {
   "cell_type": "markdown",
   "metadata": {},
   "source": [
    "**You may need to install [OpenCV](https://pypi.python.org/pypi/opencv-python) and [scikit-video](http://www.scikit-video.org/stable/).**"
   ]
  },
  {
   "cell_type": "code",
   "execution_count": 105,
   "metadata": {},
   "outputs": [],
   "source": [
    "import skvideo\n",
    "skvideo.setFFmpegPath(\"C:\\\\FFmpeg\\\\bin\")\n",
    "import keras\n",
    "import numpy as np\n",
    "import io\n",
    "import base64\n",
    "from IPython.display import HTML   \n",
    "import skvideo.io\n",
    "import cv2\n",
    "import json\n",
    "\n",
    "from keras.models import Sequential,model_from_json\n",
    "from keras.layers.core import Dense,Dropout, Activation\n",
    "from keras.optimizers import sgd,Adam\n",
    "from keras.layers import Conv2D, MaxPooling2D, Activation, AveragePooling2D,Reshape,BatchNormalization,Flatten,MaxPooling2D\n"
   ]
  },
  {
   "cell_type": "markdown",
   "metadata": {},
   "source": [
    "# MiniProject #3: Deep Reinforcement Learning"
   ]
  },
  {
   "cell_type": "markdown",
   "metadata": {},
   "source": [
    "__Notations__: $E_p$ is the expectation under probability $p$. Please justify each of your answer and widely comment your code."
   ]
  },
  {
   "cell_type": "markdown",
   "metadata": {},
   "source": [
    "# Context"
   ]
  },
  {
   "cell_type": "markdown",
   "metadata": {},
   "source": [
    "In a reinforcement learning algorithm, we modelize each step $t$ as an action $a_t$ obtained from a state $s_t$, i.e. $\\{(a_{t},s_{t})_{t\\leq T}\\}$ having the Markov property. We consider a discount factor $\\gamma \\in [0,1]$ that ensures convergence. The goal is to find among all the policies $\\pi$, one that maximizes the expected reward:\n",
    "\n",
    "\\begin{equation*}\n",
    "R(\\pi)=\\sum_{t\\leq T}E_{p^{\\pi}}[\\gamma^t r(s_{t},a_{t})] \\> ,\n",
    "\\end{equation*}\n",
    "\n",
    "where: \n",
    "\\begin{equation*}p^{\\pi}(a_{0},a_{1},s_{1},...,a_{T},s_{T})=p(a_{0})\\prod_{t=1}^{T}\\pi(a_{t}|s_{t})p(s_{t+1}|s_{t},a_{t}) \\> .\n",
    "\\end{equation*}\n",
    "\n",
    "We note the $Q$-function:\n",
    "\n",
    "\\begin{equation*}Q^\\pi(s,a)=E_{p^{\\pi}}[\\sum_{t\\leq T}\\gamma^{t}r(s_{t},a_{t})|s_{0}=s,a_{0}=a] \\> .\n",
    "\\end{equation*}\n",
    "\n",
    "Thus, the optimal Q function is:\n",
    "\\begin{equation*}\n",
    "Q^*(s,a)=\\max_{\\pi}Q^\\pi(s,a) \\> .\n",
    "\\end{equation*}\n",
    "\n",
    "In this project, we will apply the deep reinforcement learning techniques to a simple game: an agent will have to learn from scratch a policy that will permit it maximizing a reward."
   ]
  },
  {
   "cell_type": "markdown",
   "metadata": {},
   "source": [
    "## The environment, the agent and the game"
   ]
  },
  {
   "cell_type": "markdown",
   "metadata": {},
   "source": [
    "### The environment"
   ]
  },
  {
   "cell_type": "markdown",
   "metadata": {},
   "source": [
    "```Environment``` is an abstract class that represents the states, rewards, and actions to obtain the new state."
   ]
  },
  {
   "cell_type": "code",
   "execution_count": 2,
   "metadata": {},
   "outputs": [],
   "source": [
    "class Environment(object):\n",
    "    def __init__(self):\n",
    "        pass\n",
    "\n",
    "    def act(self, act):\n",
    "        \"\"\"\n",
    "        One can act on the environment and obtain its reaction:\n",
    "        - the new state\n",
    "        - the reward of the new state\n",
    "        - should we continue the game?\n",
    "\n",
    "        :return: state, reward, game_over\n",
    "        \"\"\"\n",
    "        pass\n",
    "\n",
    "\n",
    "    def reset(self):\n",
    "        \"\"\"\n",
    "        Reinitialize the environment to a random state and returns\n",
    "        the original state\n",
    "\n",
    "        :return: state\n",
    "        \"\"\"\n",
    "        pass\n",
    "    \n",
    "    def draw(self):\n",
    "        \"\"\"\n",
    "        Visualize in the console or graphically the current state\n",
    "        \"\"\"\n",
    "        pass"
   ]
  },
  {
   "cell_type": "markdown",
   "metadata": {},
   "source": [
    "The method ```act``` allows to act on the environment at a given state $s_t$ (stored internally), via action $a_t$. The method will return the new state $s_{t+1}$, the reward $r(s_{t},a_{t})$ and determines if $t\\leq T$ (*game_over*).\n",
    "\n",
    "The method ```reset``` simply reinitializes the environment to a random state $s_0$.\n",
    "\n",
    "The method ```draw``` displays the current state $s_t$ (this is useful to check the behavior of the Agent).\n",
    "\n",
    "We modelize $s_t$ as a tensor, while $a_t$ is an integer."
   ]
  },
  {
   "cell_type": "markdown",
   "metadata": {},
   "source": [
    "### The Agent"
   ]
  },
  {
   "cell_type": "markdown",
   "metadata": {},
   "source": [
    "The goal of the ```Agent``` is to interact with the ```Environment``` by proposing actions $a_t$ obtained from a given state $s_t$ to attempt to maximize its __reward__ $r(s_t,a_t)$. We propose the following abstract class:"
   ]
  },
  {
   "cell_type": "code",
   "execution_count": 3,
   "metadata": {},
   "outputs": [],
   "source": [
    "class Agent(object):\n",
    "    def __init__(self, epsilon=0.1, n_action=4):\n",
    "        self.epsilon = epsilon\n",
    "        self.n_action = n_action\n",
    "    \n",
    "    def set_epsilon(self,e):\n",
    "        self.epsilon = e\n",
    "\n",
    "    def act(self,s,train=True):\n",
    "        \"\"\" This function should return the next action to do:\n",
    "        an integer between 0 and 4 (not included) with a random exploration of epsilon\"\"\"\n",
    "        if train:\n",
    "            if np.random.rand() <= self.epsilon:\n",
    "                a = np.random.randint(0, self.n_action, size=1)[0]\n",
    "            else:\n",
    "                a = self.learned_act(s)\n",
    "        else: # in some cases, this can improve the performance.. remove it if poor performances\n",
    "            a = self.learned_act(s)\n",
    "\n",
    "        return a\n",
    "\n",
    "    def learned_act(self,s):\n",
    "        \"\"\" Act via the policy of the agent, from a given state s\n",
    "        it proposes an action a\"\"\"\n",
    "        pass\n",
    "\n",
    "    def reinforce(self, s, n_s, a, r, game_over_):\n",
    "        \"\"\" This function is the core of the learning algorithm. \n",
    "        It takes as an input the current state s_, the next state n_s_\n",
    "        the action a_ used to move from s_ to n_s_ and the reward r_.\n",
    "        \n",
    "        Its goal is to learn a policy.\n",
    "        \"\"\"\n",
    "        pass\n",
    "\n",
    "    def save(self):\n",
    "        \"\"\" This function returns basic stats if applicable: the\n",
    "        loss and/or the model\"\"\"\n",
    "        pass\n",
    "\n",
    "    def load(self):\n",
    "        \"\"\" This function allows to restore a model\"\"\"\n",
    "        pass"
   ]
  },
  {
   "cell_type": "markdown",
   "metadata": {},
   "source": [
    "***\n",
    "__Question 1__:\n",
    "Explain the function act. Why is ```epsilon``` essential?"
   ]
  },
  {
   "cell_type": "markdown",
   "metadata": {},
   "source": [
    "(you can use Markdown and Latex)"
   ]
  },
  {
   "cell_type": "markdown",
   "metadata": {},
   "source": [
    "Epsilon is defined as the probability of exploration and it consists in picking a random action among the possible ones. This so the agent will try new actions during the training, actions that may lead to a better cumulative reward. We need epsilon to be between 0 and 1, so that we have both exploration and exploitation: if it is equal to 1, the agent will always explore and never act greedily with respect to the action-value function. If it is 0, the agent will never explore and this may lead to overfitting (making actions too biased by the past during the training phase).\n",
    "\n",
    "\n",
    "What the function act does is essentially this: it gives the agent a probability equal to epsilon of acting randomly (it chooses a number between 0 and 4, 4 excluded cause we have 4 possible directions) therefore exploring the environment and gathering new information, and it gives it also a probability of 1-epsilon of exploiting i.e. making the best decision given current\n",
    "information at state s.\n",
    "\n",
    "\n",
    "To understand why using epsilon is important, let's imagine a situation without exploration where the agent is stuck on a grid and it greedily chooses to move toward the boundary of the game and this results in it remaining in the same grid forever.\n",
    "Therefore, keeping an explorative/stochastic element in its policy is useful to avoid such situations.\n"
   ]
  },
  {
   "cell_type": "markdown",
   "metadata": {},
   "source": [
    "***\n",
    "### The Game"
   ]
  },
  {
   "cell_type": "markdown",
   "metadata": {},
   "source": [
    "The ```Agent``` and the ```Environment``` work in an interlaced way as in the following (take some time to understand this code as it is the core of the project)\n",
    "\n",
    "```python\n",
    "\n",
    "epoch = 300\n",
    "env = Environment()\n",
    "agent = Agent()\n",
    "\n",
    "\n",
    "# Number of won games\n",
    "score = 0\n",
    "loss = 0\n",
    "\n",
    "\n",
    "for e in range(epoch):\n",
    "    # At each epoch, we restart to a fresh game and get the initial state\n",
    "    state = env.reset()\n",
    "    # This assumes that the games will end\n",
    "    game_over = False\n",
    "\n",
    "    win = 0\n",
    "    lose = 0\n",
    "    \n",
    "    while not game_over:\n",
    "        # The agent performs an action\n",
    "        action = agent.act(state)\n",
    "\n",
    "        # Apply an action to the environment, get the next state, the reward\n",
    "        # and if the games end\n",
    "        prev_state = state\n",
    "        state, reward, game_over = env.act(action)\n",
    "\n",
    "        # Update the counters\n",
    "        if reward > 0:\n",
    "            win = win + reward\n",
    "        if reward < 0:\n",
    "            lose = lose -reward\n",
    "\n",
    "        # Apply the reinforcement strategy\n",
    "        loss = agent.reinforce(prev_state, state,  action, reward, game_over)\n",
    "\n",
    "    # Save as a mp4\n",
    "    if e % 10 == 0:\n",
    "        env.draw(e)\n",
    "\n",
    "    # Update stats\n",
    "    score += win-lose\n",
    "\n",
    "    print(\"Epoch {:03d}/{:03d} | Loss {:.4f} | Win/lose count {}/{} ({})\"\n",
    "          .format(e, epoch, loss, win, lose, win-lose))\n",
    "    agent.save()\n",
    "```"
   ]
  },
  {
   "cell_type": "markdown",
   "metadata": {},
   "source": [
    "# The game, *eat cheese*"
   ]
  },
  {
   "cell_type": "markdown",
   "metadata": {},
   "source": [
    "A rat runs on an island and tries to eat as much as possible. The island is subdivided into $N\\times N$ cells, in which there are cheese (+0.5) and poisonous cells (-1). The rat has a visibility of 2 cells (thus it can see $5^2$ cells). The rat is given a time $T$ to accumulate as much food as possible. It can perform 4 actions: going up, down, left, right. \n",
    "\n",
    "The goal is to code an agent to solve this task that will learn by trial and error. We propose the following environment:"
   ]
  },
  {
   "cell_type": "code",
   "execution_count": 4,
   "metadata": {},
   "outputs": [],
   "source": [
    "class Environment(object):\n",
    "    def __init__(self, grid_size=10, max_time=500, temperature=0.1):\n",
    "        grid_size = grid_size+4\n",
    "        self.grid_size = grid_size\n",
    "        self.max_time = max_time\n",
    "        self.temperature = temperature\n",
    "\n",
    "        #board on which one plays\n",
    "        self.board = np.zeros((grid_size,grid_size))\n",
    "        self.position = np.zeros((grid_size,grid_size))\n",
    "\n",
    "        # coordinate of the cat\n",
    "        self.x = 0\n",
    "        self.y = 1\n",
    "\n",
    "        # self time\n",
    "        self.t = 0\n",
    "\n",
    "        self.scale=16\n",
    "\n",
    "        self.to_draw = np.zeros((max_time+2, grid_size*self.scale, grid_size*self.scale, 3))\n",
    "\n",
    "\n",
    "    def draw(self,e):\n",
    "        skvideo.io.vwrite(str(e) + '.mp4', self.to_draw)\n",
    "\n",
    "    def get_frame(self,t):\n",
    "        b = np.zeros((self.grid_size,self.grid_size,3))+128\n",
    "        b[self.board>0,0] = 256\n",
    "        b[self.board < 0, 2] = 256\n",
    "        b[self.x,self.y,:]=256\n",
    "        b[-2:,:,:]=0\n",
    "        b[:,-2:,:]=0\n",
    "        b[:2,:,:]=0\n",
    "        b[:,:2,:]=0\n",
    "        \n",
    "        b =  cv2.resize(b, None, fx=self.scale, fy=self.scale, interpolation=cv2.INTER_NEAREST)\n",
    "\n",
    "        self.to_draw[t,:,:,:]=b\n",
    "\n",
    "\n",
    "    def act(self, action):\n",
    "        \"\"\"This function returns the new state, reward and decides if the\n",
    "        game ends.\"\"\"\n",
    "\n",
    "        self.get_frame(int(self.t))\n",
    "\n",
    "        self.position = np.zeros((self.grid_size, self.grid_size))\n",
    "\n",
    "        self.position[0:2,:]= -1\n",
    "        self.position[:,0:2] = -1\n",
    "        self.position[-2:, :] = -1\n",
    "        self.position[-2:, :] = -1\n",
    "\n",
    "        self.position[self.x, self.y] = 1\n",
    "        if action == 0:\n",
    "            if self.x == self.grid_size-3:\n",
    "                self.x = self.x-1\n",
    "            else:\n",
    "                self.x = self.x + 1\n",
    "        elif action == 1:\n",
    "            if self.x == 2:\n",
    "                self.x = self.x+1\n",
    "            else:\n",
    "                self.x = self.x-1\n",
    "        elif action == 2:\n",
    "            if self.y == self.grid_size - 3:\n",
    "                self.y = self.y - 1\n",
    "            else:\n",
    "                self.y = self.y + 1\n",
    "        elif action == 3:\n",
    "            if self.y == 2:\n",
    "                self.y = self.y + 1\n",
    "            else:\n",
    "                self.y = self.y - 1\n",
    "        else:\n",
    "            RuntimeError('Error: action not recognized')\n",
    "\n",
    "        self.t = self.t + 1\n",
    "        reward = self.board[self.x, self.y]\n",
    "        self.board[self.x, self.y] = 0\n",
    "        game_over = self.t > self.max_time\n",
    "        state = np.concatenate((self.board.reshape(self.grid_size, self.grid_size,1),\n",
    "                        self.position.reshape(self.grid_size, self.grid_size,1)),axis=2)\n",
    "        state = state[self.x-2:self.x+3,self.y-2:self.y+3,:]\n",
    "\n",
    "        return state, reward, game_over\n",
    "\n",
    "    def reset(self):\n",
    "        \"\"\"This function resets the game and returns the initial state\"\"\"\n",
    "\n",
    "        self.x = np.random.randint(3, self.grid_size-3, size=1)[0]\n",
    "        self.y = np.random.randint(3, self.grid_size-3, size=1)[0]\n",
    "\n",
    "\n",
    "        bonus = 0.5*np.random.binomial(1,self.temperature,size=self.grid_size**2)\n",
    "        bonus = bonus.reshape(self.grid_size,self.grid_size)\n",
    "\n",
    "        malus = -1.0*np.random.binomial(1,self.temperature,size=self.grid_size**2)\n",
    "        malus = malus.reshape(self.grid_size, self.grid_size)\n",
    "\n",
    "        self.to_draw = np.zeros((self.max_time+2, self.grid_size*self.scale, self.grid_size*self.scale, 3))\n",
    "\n",
    "\n",
    "        malus[bonus>0]=0\n",
    "\n",
    "        self.board = bonus + malus\n",
    "\n",
    "        self.position = np.zeros((self.grid_size, self.grid_size))\n",
    "        self.position[0:2,:]= -1\n",
    "        self.position[:,0:2] = -1\n",
    "        self.position[-2:, :] = -1\n",
    "        self.position[-2:, :] = -1\n",
    "        self.board[self.x,self.y] = 0\n",
    "        self.t = 0\n",
    "\n",
    "        state = np.concatenate((\n",
    "                               self.board.reshape(self.grid_size, self.grid_size,1),\n",
    "                        self.position.reshape(self.grid_size, self.grid_size,1)),axis=2)\n",
    "\n",
    "        state = state[self.x - 2:self.x + 3, self.y - 2:self.y + 3, :]\n",
    "        return state"
   ]
  },
  {
   "cell_type": "markdown",
   "metadata": {},
   "source": [
    "The following elements are important because they correspond to the hyper parameters for this project:"
   ]
  },
  {
   "cell_type": "code",
   "execution_count": 5,
   "metadata": {},
   "outputs": [],
   "source": [
    "# parameters\n",
    "size = 13\n",
    "T=200\n",
    "temperature=0.3\n",
    "epochs_train=45 # set small when debugging\n",
    "epochs_test=10 # set small when debugging\n",
    "\n",
    "# display videos\n",
    "def display_videos(name):\n",
    "    video = io.open(name, 'r+b').read()\n",
    "    encoded = base64.b64encode(video)\n",
    "    return '''<video alt=\"test\" controls>\n",
    "                <source src=\"data:video/mp4;base64,{0}\" type=\"video/mp4\" />\n",
    "             </video>'''.format(encoded.decode('ascii'))"
   ]
  },
  {
   "cell_type": "markdown",
   "metadata": {},
   "source": [
    "__Question 2__ Explain the use of the arrays ```position``` and ```board```."
   ]
  },
  {
   "cell_type": "markdown",
   "metadata": {},
   "source": [
    "The array position simply states where the animal can/can't go and where it is: -1 indicates the boundaries where it cannot go, 0 represents the authorized positions (as this array is initialized as an array of zeros) and 1 the current position. \n",
    "The board instead, contains the rewards for each state. If the cell is (1,1), the rat will get the reward board[1,1]\n"
   ]
  },
  {
   "cell_type": "markdown",
   "metadata": {},
   "source": [
    "## Random Agent"
   ]
  },
  {
   "cell_type": "markdown",
   "metadata": {},
   "source": [
    "***\n",
    "__Question 3__ Implement a random Agent (only ```learned_act``` needs to be implemented):"
   ]
  },
  {
   "cell_type": "code",
   "execution_count": 6,
   "metadata": {},
   "outputs": [],
   "source": [
    "class RandomAgent(Agent):\n",
    "    def __init__(self):\n",
    "        super(RandomAgent, self).__init__()\n",
    "        pass\n",
    "\n",
    "    def learned_act(self, s):\n",
    "        a = np.random.randint(0, self.n_action)\n",
    "        return a"
   ]
  },
  {
   "cell_type": "markdown",
   "metadata": {},
   "source": [
    "***\n",
    "***\n",
    "__Question 4__ Visualize the game moves. You need to fill in the following function for the evaluation:"
   ]
  },
  {
   "cell_type": "code",
   "execution_count": 7,
   "metadata": {},
   "outputs": [],
   "source": [
    "def test(agent,env,epochs,prefix=''):\n",
    "    # Number of won games\n",
    "    score = 0\n",
    "        \n",
    "    for e in range(epochs):\n",
    "        state = env.reset()\n",
    "        game_over = False\n",
    "        win = 0\n",
    "        lose = 0\n",
    "        while not game_over:\n",
    "            # The agent performs an action. this time we need train=false cause we're testing and we don't need the epsilon-greedy approach\n",
    "            action = agent.act(state,train=False)\n",
    "            \n",
    "            # Apply an action to the environment, get the next state, the reward\n",
    "            # and if the games end\n",
    "            prev_state = state\n",
    "            state, reward, game_over = env.act(action)\n",
    "\n",
    "        # Update the counters\n",
    "            if reward > 0:\n",
    "                win = win + reward\n",
    "            if reward < 0:\n",
    "                lose = lose -reward\n",
    "        \n",
    "        # Save as a mp4\n",
    "        env.draw(prefix+str(e))\n",
    "\n",
    "        # Update stats\n",
    "        score = score + win-lose\n",
    "\n",
    "        print(\"Win/lose count {}/{}. Average score ({})\"\n",
    "              .format(win, lose, score/(1+e)))\n",
    "    print('Final score: '+str(score/epochs))"
   ]
  },
  {
   "cell_type": "code",
   "execution_count": 8,
   "metadata": {},
   "outputs": [
    {
     "name": "stdout",
     "output_type": "stream",
     "text": [
      "Win/lose count 8.0/8.0. Average score (0.0)\n",
      "Win/lose count 11.0/9.0. Average score (1.0)\n",
      "Win/lose count 10.0/13.0. Average score (-0.3333333333333333)\n",
      "Win/lose count 10.0/21.0. Average score (-3.0)\n",
      "Win/lose count 11.5/11.0. Average score (-2.3)\n",
      "Win/lose count 11.0/17.0. Average score (-2.9166666666666665)\n",
      "Win/lose count 12.5/19.0. Average score (-3.4285714285714284)\n",
      "Win/lose count 10.0/18.0. Average score (-4.0)\n",
      "Win/lose count 11.0/12.0. Average score (-3.6666666666666665)\n",
      "Win/lose count 12.0/15.0. Average score (-3.6)\n",
      "Final score: -3.6\n"
     ]
    },
    {
     "data": {
      "text/html": [
       "<video alt=\"test\" controls>\n",
       "                <source src=\"data:video/mp4;base64,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\" type=\"video/mp4\" />\n",
       "             </video>"
      ],
      "text/plain": [
       "<IPython.core.display.HTML object>"
      ]
     },
     "execution_count": 8,
     "metadata": {},
     "output_type": "execute_result"
    }
   ],
   "source": [
    "# Initialize the game\n",
    "env = Environment(grid_size=size, max_time=T,temperature=temperature)\n",
    "\n",
    "# Initialize the agent!\n",
    "agent = RandomAgent()\n",
    "\n",
    "test(agent,env,epochs_test,prefix='random')\n",
    "HTML(display_videos('random0.mp4'))"
   ]
  },
  {
   "cell_type": "markdown",
   "metadata": {},
   "source": [
    "***\n",
    "## DQN"
   ]
  },
  {
   "cell_type": "markdown",
   "metadata": {},
   "source": [
    "Let us assume here that $T=\\infty$.\n",
    "\n",
    "***\n",
    "__Question 5__ Let $\\pi$ be a policy, show that:\n",
    "\n",
    "\\begin{equation*}\n",
    "Q^{\\pi}(s,a)=E_{(s',a')\\sim p(.|s,a)}[r(s,a)+\\gamma Q^{\\pi}(s',a')]\n",
    "\\end{equation*}\n",
    "\n",
    "Then, show that for the optimal policy $\\pi^*$ (we assume its existence), the following holds: \n",
    "\n",
    "\\begin{equation*}\n",
    "Q^{*}(s,a)=E_{s'\\sim \\pi^*(.|s,a)}[r(s,a)+\\gamma\\max_{a'}Q^{*}(s',a')].\n",
    "\\end{equation*}\n",
    "Finally, deduce that a plausible objective is:\n",
    "\n",
    "\\begin{equation*}\n",
    "\\mathcal{L}(\\theta)=E_{s' \\sim \\pi^*(.|s,a)}\\Vert r+\\gamma\\max\\max_{a'}Q(s',a',\\theta)-Q(s,a,\\theta)\\Vert^{2}.\n",
    "\\end{equation*}\n",
    "\n",
    "\n"
   ]
  },
  {
   "cell_type": "markdown",
   "metadata": {},
   "source": [
    ">1)We start from:\n",
    "    \n",
    "%%latex\n",
    "\\begin{equation}\n",
    "Q^{\\pi}(s,a)=E[\\sum_{k=0}^{\\infty} \\gamma^{k}r_{t+k}|s_{t}=s,a_{t}=a]\n",
    "\\end{equation}\n",
    ">then we take out the case when t=0 and iterate\n"
   ]
  },
  {
   "cell_type": "markdown",
   "metadata": {},
   "source": [
    "\n",
    "$$= E[r(s,a)+\\sum_{k=1}^{\\infty} \\gamma^{k}r_{t+k}|s_{t}=s,a_{t}=a] \\\\\\\\\n",
    "=r(s,a)+\\gamma E[E[\\sum_{k=0}^{\\infty} \\gamma^{k}t_{t+k+1|s_{t+1}=s',a_{t+1}=a'}]|s_{t}=s,a_{t}=a]\\\\\\\\\n",
    "= r(s,a) + \\gamma \\sum_{(s',a')}(p(s_{t+1}=s',a_{t+1}=a' |s_{t} = s, a_{t} = a )[E[\\sum_{k=0}^{\\infty}\\gamma^k r_{t+1+k}|s_{t+1}=s',a_{t+1}=a'] \\\\\\\\\n",
    "=  \\sum_{(s',a')} (p(s_{t+1}=s',a_{t+1}=a' |s_{t} = s, a_{t} = a ) r(s,a) + \\gamma \\sum_{(s',a')}(p(s_{t+1}=s',a_{t+1}=a' |s_{t} = s, a_{t} = a )E[\\sum_{k=0}^{\\infty}\\gamma^{k} r_{t+1+k}|s_{t+1}=s',a_{t+1}=a']\\\\\\\\\n",
    "=E_{(s',a')\\sim p(.|s,a)}[r(s,a)+\\gamma Q^{\\pi}(s',a')]$$"
   ]
  },
  {
   "cell_type": "markdown",
   "metadata": {},
   "source": [
    ">2) Then for the second equivalence we have that:\n",
    "\n",
    "$$Q^{*}(s,a) = \\max_{\\pi}E_{(s',a')\\sim p(.|s,a)}[r(s,a)+\\gamma Q^{\\pi}(s',a')]\\\\\\\\\n",
    "= \\max_{\\pi}r(s,a) + \\gamma \\sum(p(s_{t+1}=s' |s_{t} = s, a_{t} = a )Q^{\\pi}(s',a')\\\\\\\\\n",
    "= r(s,a) + \\gamma \\max_{\\pi} \\sum(p(s_{t+1}=s' |s_t = s, a_t = a )Q^{\\pi'}(s',a') \\qquad \\text{with } \\pi=(a',\\pi')$$"
   ]
  },
  {
   "cell_type": "markdown",
   "metadata": {},
   "source": [
    ">At this point we should exchange the maximum and the sum and in order to do so, we have to consider the following inequality:\n",
    "\n",
    "\n",
    "$$\\max_{\\pi} \\sum_{(s')} p(s_{t+1}=s'|s_{t} = s, a_{t}= a) Q^{\\pi'}(s',a') \n",
    "\\leq \\sum_{(s',a')} p(s_{t+1}=s'|s_{t} = s, a_{t} = a) \\max_{\\pi}Q^{\\pi'}(s',a')$$"
   ]
  },
  {
   "cell_type": "markdown",
   "metadata": {},
   "source": [
    ">Then we have that \n",
    "\n",
    "$$\\hat{\\pi}(s',a') = \\arg\\max_{\\pi'} Q^{\\pi'}(s',a')\n",
    "\\sum_{(s'} p(s_{t+1}=s'|s_{t} = s, a_{t} = a ) \\max_{\\pi'}Q^{\\pi'}(s',a')\\\\\\\\ = \\sum_{(s')} p(s_{t+1}=s'|s_{t} = s, a_{t} = a ) Q^{\\hat{\\pi}(s',a')}(s',a')\n",
    "\\leq \\max_{\\pi'} \\sum_{s'} p(s_{t+1}=s'|s_{t} = s, a_{t} = a)Q^{\\pi'}(s',a')$$\n",
    " "
   ]
  },
  {
   "cell_type": "markdown",
   "metadata": {},
   "source": [
    ">Hence we can rewrite our initial equation and find the final outcome:\n",
    "\n",
    "$$Q^{*}(s,a)= r(s,a) + \\gamma \\sum(p(s_{t+1}=s'|s_{t} = s, a_{t} = a )\\max_{a'}\\max_{\\pi'}Q^{\\pi'}(s',a')\\\\\\\\\n",
    "= r(s,a) + \\gamma \\sum(p(s_{t+1}=s'|s_{t} = s, a_{t} = a )\\max_{a'} Q^{*}(s',a')\\\\\\\\\n",
    "=E_{s'\\sim \\pi^*(.|s,a)}[r(s,a)+\\gamma \\max_{a'}Q^{*}(s',a')]$$"
   ]
  },
  {
   "cell_type": "markdown",
   "metadata": {},
   "source": [
    ">3) Finally we have to deduce that the given objective function is possible.\n",
    "\n",
    "%%latex\n",
    "\\begin{equation*}\n",
    "\\mathcal{L}(\\theta)=E_{s' \\sim \\pi^*(.|s,a)}\\Vert r+ \\gamma \\max_{a'}Q(s',a',\\theta)-Q(s,a,\\theta) \\Vert^{2}\n",
    "\\end{equation*}\n",
    "\n",
    "With this loss function we try to force the Q value to verify the well known Bellman equation.\n",
    "Furthermore, we can derive the given objective by minimization of this loss function:\n",
    "\n",
    "%%latex\n",
    "\\begin{equation}\n",
    "\\mathcal{L}(\\theta) = E_{s' \\sim \\pi^*(.|s,a)}(( Q^* (s,a,\\theta ) - Q(s,a,\\theta)) ^2)\n",
    "\\end{equation}\n",
    "\n",
    "\\begin{equation}\n",
    "\\mathcal{L}(\\theta) =  E_{s' \\sim \\pi^*(.|s,a)} (( r(s,a)+\\gamma \\max_{a'}Q^{*}(s',a', \\theta) - Q(s,a,\\theta)) ^2)\n",
    "\\end{equation}\n",
    "\\begin{equation}\n",
    "\\mathcal{L}(\\theta) = E_{s' \\sim \\pi^*(.|s,a)}\\Vert r+\\gamma \\max \\max_{a'}Q(s',a',\\theta)-Q(s,a,\\theta)\\Vert^{2}\n",
    "\\end{equation}"
   ]
  },
  {
   "cell_type": "markdown",
   "metadata": {},
   "source": [
    "***\n",
    "The DQN-learning algorithm relies on these derivations to train the parameters $\\theta$ of a Deep Neural Network:\n",
    "\n",
    "1. At the state $s_t$, select the action $a_t$ with best reward using $Q_t$ and store the results;\n",
    "\n",
    "2. Obtain the new state $s_{t+1}$ from the environment $p$;\n",
    "\n",
    "3. Store $(s_t,a_t,s_{t+1})$;\n",
    "\n",
    "4. Obtain $Q_{t+1}$ by minimizing  $\\mathcal{L}$ from a recovered batch from the previously stored results.\n",
    "\n",
    "***\n",
    "__Question 6__ Implement the class ```Memory``` that stores moves (in a replay buffer) via ```remember``` and provides a ```random_access``` to these. Specify a maximum memory size to avoid side effects. You can for example use a ```list()``` and set by default ```max_memory=100```."
   ]
  },
  {
   "cell_type": "code",
   "execution_count": 35,
   "metadata": {},
   "outputs": [],
   "source": [
    "class Memory(object):\n",
    "    def __init__(self, max_memory=100):\n",
    "        self.max_memory = max_memory\n",
    "        self.memory = list()\n",
    "\n",
    "    def remember(self, m):\n",
    "        self.memory.append(m)\n",
    "        if len(self.memory)>self.max_memory:\n",
    "            del self.memory[0]\n",
    "\n",
    "    def random_access(self):\n",
    "        i=np.random.randint(0,len(self.memory))\n",
    "        return self.memory[i]"
   ]
  },
  {
   "cell_type": "markdown",
   "metadata": {},
   "source": [
    "***\n",
    "The pipeline we will use for training is given below:"
   ]
  },
  {
   "cell_type": "code",
   "execution_count": 75,
   "metadata": {},
   "outputs": [],
   "source": [
    "def train(agent,env,epoch,prefix=''):\n",
    "    # Number of won games\n",
    "    score = 0\n",
    "    loss = 0\n",
    "\n",
    "    for e in range(epoch):\n",
    "        # At each epoch, we restart to a fresh game and get the initial state\n",
    "        state = env.reset()\n",
    "        # This assumes that the games will terminate\n",
    "        game_over = False\n",
    "\n",
    "        win = 0\n",
    "        lose = 0\n",
    "\n",
    "        while not game_over:\n",
    "            # The agent performs an action\n",
    "            action = agent.act(state)\n",
    "\n",
    "            # Apply an action to the environment, get the next state, the reward\n",
    "            # and if the games end\n",
    "            prev_state = state\n",
    "            state, reward, game_over = env.act(action)\n",
    "\n",
    "            # Update the counters\n",
    "            if reward > 0:\n",
    "                win = win + reward\n",
    "            if reward < 0:\n",
    "                lose = lose -reward\n",
    "\n",
    "            # Apply the reinforcement strategy\n",
    "            loss = agent.reinforce(prev_state, state,  action, reward, game_over)\n",
    "\n",
    "        # Save as a mp4\n",
    "        if e % 10 == 0:\n",
    "            env.draw(prefix+str(e))\n",
    "\n",
    "        # Update stats\n",
    "        score += win-lose\n",
    "\n",
    "        print(\"Epoch {:03d}/{:03d} | Loss {:.4f} | Win/lose count {}/{} ({})\"\n",
    "              .format(e, epoch, loss, win, lose, win-lose))\n",
    "        agent.save(name_weights=prefix+'model.h5',name_model=prefix+'model.json')\n",
    "    print('Final score: '+str(score/epoch))"
   ]
  },
  {
   "cell_type": "markdown",
   "metadata": {},
   "source": [
    "***\n",
    "__Question 7__ Implement the DQN training algorithm using a cascade of fully connected layers. You can use different learning rate, batch size or memory size parameters. In particular, the loss might oscillate while the player will start to win the games. You have to find a good criterium."
   ]
  },
  {
   "cell_type": "code",
   "execution_count": 128,
   "metadata": {},
   "outputs": [],
   "source": [
    "class DQN(Agent):\n",
    "    def __init__(self, grid_size,  epsilon = 0.1, memory_size=100, batch_size = 16,n_state=2):\n",
    "        super(DQN, self).__init__(epsilon = epsilon)\n",
    "\n",
    "        # Discount for Q learning\n",
    "        self.discount = 0.99\n",
    "        \n",
    "        self.grid_size = grid_size\n",
    "        \n",
    "        # number of state\n",
    "        self.n_state = n_state\n",
    "\n",
    "        # Memory\n",
    "        self.memory = Memory(memory_size)\n",
    "        \n",
    "        # Batch size when learning\n",
    "        self.batch_size = batch_size\n",
    "\n",
    "    def learned_act(self, s):\n",
    "        return np.argmax(self.model.predict(s.reshape([1,s.shape[0],s.shape[1],s.shape[2]]))[0,:])\n",
    "    \n",
    "\n",
    "    def reinforce(self, s_, n_s_, a_, r_, game_over_):\n",
    "        # Two steps: first memorize the states, second learn from the pool\n",
    "\n",
    "        self.memory.remember([s_, n_s_, a_, r_, game_over_])\n",
    "        \n",
    "        input_states = np.zeros((self.batch_size, 5,5,self.n_state))\n",
    "        target_q = np.zeros((self.batch_size, 4))\n",
    "        \n",
    "        \n",
    "        for i in range(self.batch_size):\n",
    "            #considering new information in order to make new predictions\n",
    "            s_, n_s_, a_, r_, game_over_  = self.memory.random_access()\n",
    "            target_q[i] =self.model.predict(s_.reshape([1,s_.shape[0],s_.shape[1],s_.shape[2]]))[0]\n",
    "            if game_over_:\n",
    "                input_states[i] = s_\n",
    "                target_q[i,a_] = r_\n",
    "            else:\n",
    "                input_states[i] = s_\n",
    "                target_q[i,a_] = r_  + self.discount*max(self.model.predict(n_s_.reshape([1,s_.shape[0],s_.shape[1],s_.shape[2]]))[0])\n",
    "        # HINT: Clip the target to avoid exploiding gradients.. -- clipping is a bit tighter\n",
    "        target_q = np.clip(target_q, -3, 3)\n",
    "\n",
    "        l = self.model.train_on_batch(input_states, target_q)\n",
    "\n",
    "\n",
    "        return l\n",
    "   \n",
    "    \n",
    "    \n",
    "    def save(self,name_weights='model.h5',name_model='model.json'):\n",
    "        self.model.save_weights(name_weights, overwrite=True)\n",
    "        with open(name_model, \"w\") as outfile:\n",
    "            json.dump(self.model.to_json(), outfile)\n",
    "            \n",
    "    def load(self,name_weights='model.h5',name_model='model.json'):\n",
    "        with open(name_model, \"r\") as jfile:\n",
    "            model = model_from_json(json.load(jfile))\n",
    "        model.load_weights(name_weights)\n",
    "        model.compile(\"sgd\", \"mse\")\n",
    "        self.model = model\n",
    "\n",
    "            \n",
    "class DQN_FC(DQN):\n",
    "    def __init__(self, *args, lr=0.1,**kwargs):\n",
    "        super(DQN_FC, self).__init__( *args,**kwargs)\n",
    "        \n",
    "        # NN Model\n",
    "        \n",
    "        model = Sequential()\n",
    "        model.add(Flatten(input_shape=(5,5,self.n_state,)))\n",
    "        model.add(Dense(30,activation ='relu')) #let's start with one layer\n",
    "        model.add(Dense(4))\n",
    "        model.compile(sgd(lr=lr, decay=1e-4, momentum=0.0), \"mse\")\n",
    "        self.model = model\n"
   ]
  },
  {
   "cell_type": "code",
   "execution_count": 36,
   "metadata": {},
   "outputs": [
    {
     "name": "stdout",
     "output_type": "stream",
     "text": [
      "Epoch 000/050 | Loss 0.0060 | Win/lose count 3.0/4.0 (-1.0)\n",
      "Epoch 001/050 | Loss 0.0122 | Win/lose count 3.5/6.0 (-2.5)\n",
      "Epoch 002/050 | Loss 0.0031 | Win/lose count 3.5/8.0 (-4.5)\n",
      "Epoch 003/050 | Loss 0.0083 | Win/lose count 1.0/4.0 (-3.0)\n",
      "Epoch 004/050 | Loss 0.0107 | Win/lose count 2.5/3.0 (-0.5)\n",
      "Epoch 005/050 | Loss 0.0047 | Win/lose count 5.0/9.0 (-4.0)\n",
      "Epoch 006/050 | Loss 0.0372 | Win/lose count 2.0/2.0 (0.0)\n",
      "Epoch 007/050 | Loss 0.0047 | Win/lose count 3.5/5.0 (-1.5)\n",
      "Epoch 008/050 | Loss 0.0087 | Win/lose count 2.5/1.0 (1.5)\n",
      "Epoch 009/050 | Loss 0.0125 | Win/lose count 7.5/3.0 (4.5)\n",
      "Epoch 010/050 | Loss 0.0146 | Win/lose count 2.5/0 (2.5)\n",
      "Epoch 011/050 | Loss 0.0161 | Win/lose count 3.5/2.0 (1.5)\n",
      "Epoch 012/050 | Loss 0.0039 | Win/lose count 0.5/0 (0.5)\n",
      "Epoch 013/050 | Loss 0.0035 | Win/lose count 5.5/8.0 (-2.5)\n",
      "Epoch 014/050 | Loss 0.0054 | Win/lose count 4.0/3.0 (1.0)\n",
      "Epoch 015/050 | Loss 0.0015 | Win/lose count 2.5/2.0 (0.5)\n",
      "Epoch 016/050 | Loss 0.0519 | Win/lose count 2.5/2.0 (0.5)\n",
      "Epoch 017/050 | Loss 0.0103 | Win/lose count 6.5/3.0 (3.5)\n",
      "Epoch 018/050 | Loss 0.0135 | Win/lose count 5.5/1.0 (4.5)\n",
      "Epoch 019/050 | Loss 0.1125 | Win/lose count 5.5/3.0 (2.5)\n",
      "Epoch 020/050 | Loss 0.0068 | Win/lose count 1.5/5.0 (-3.5)\n",
      "Epoch 021/050 | Loss 0.0455 | Win/lose count 7.0/3.0 (4.0)\n",
      "Epoch 022/050 | Loss 0.0123 | Win/lose count 3.5/4.0 (-0.5)\n",
      "Epoch 023/050 | Loss 0.0751 | Win/lose count 4.0/4.0 (0.0)\n",
      "Epoch 024/050 | Loss 0.0040 | Win/lose count 13.0/5.0 (8.0)\n",
      "Epoch 025/050 | Loss 0.0016 | Win/lose count 3.0/1.0 (2.0)\n",
      "Epoch 026/050 | Loss 0.0901 | Win/lose count 5.5/3.0 (2.5)\n",
      "Epoch 027/050 | Loss 0.0151 | Win/lose count 2.5/2.0 (0.5)\n",
      "Epoch 028/050 | Loss 0.0060 | Win/lose count 4.0/1.0 (3.0)\n",
      "Epoch 029/050 | Loss 0.0037 | Win/lose count 9.0/0 (9.0)\n",
      "Epoch 030/050 | Loss 0.0024 | Win/lose count 6.0/1.0 (5.0)\n",
      "Epoch 031/050 | Loss 0.0026 | Win/lose count 10.0/2.0 (8.0)\n",
      "Epoch 032/050 | Loss 0.0045 | Win/lose count 4.5/1.0 (3.5)\n",
      "Epoch 033/050 | Loss 0.0047 | Win/lose count 9.5/5.0 (4.5)\n",
      "Epoch 034/050 | Loss 0.0032 | Win/lose count 10.5/4.0 (6.5)\n",
      "Epoch 035/050 | Loss 0.0047 | Win/lose count 12.5/1.0 (11.5)\n",
      "Epoch 036/050 | Loss 0.0033 | Win/lose count 10.0/2.0 (8.0)\n",
      "Epoch 037/050 | Loss 0.0040 | Win/lose count 8.0/2.0 (6.0)\n",
      "Epoch 038/050 | Loss 0.0549 | Win/lose count 8.0/4.0 (4.0)\n",
      "Epoch 039/050 | Loss 0.0026 | Win/lose count 10.5/5.0 (5.5)\n",
      "Epoch 040/050 | Loss 0.0335 | Win/lose count 3.0/6.0 (-3.0)\n",
      "Epoch 041/050 | Loss 0.0051 | Win/lose count 8.5/2.0 (6.5)\n",
      "Epoch 042/050 | Loss 0.0032 | Win/lose count 5.0/2.0 (3.0)\n",
      "Epoch 043/050 | Loss 0.0324 | Win/lose count 6.5/2.0 (4.5)\n",
      "Epoch 044/050 | Loss 0.0065 | Win/lose count 9.0/2.0 (7.0)\n",
      "Epoch 045/050 | Loss 0.0052 | Win/lose count 11.0/5.0 (6.0)\n",
      "Epoch 046/050 | Loss 0.0066 | Win/lose count 3.0/1.0 (2.0)\n",
      "Epoch 047/050 | Loss 0.0029 | Win/lose count 10.0/4.0 (6.0)\n",
      "Epoch 048/050 | Loss 0.0017 | Win/lose count 6.0/1.0 (5.0)\n",
      "Epoch 049/050 | Loss 0.0041 | Win/lose count 2.0/5.0 (-3.0)\n"
     ]
    },
    {
     "data": {
      "text/html": [
       "<video alt=\"test\" controls>\n",
       "                <source src=\"data:video/mp4;base64,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\" type=\"video/mp4\" />\n",
       "             </video>"
      ],
      "text/plain": [
       "<IPython.core.display.HTML object>"
      ]
     },
     "execution_count": 36,
     "metadata": {},
     "output_type": "execute_result"
    }
   ],
   "source": [
    "env = Environment(grid_size=size, max_time=T, temperature=0.3)\n",
    "agent = DQN_FC(size, lr=.1, epsilon = 0.1, memory_size=2000, batch_size = 32)\n",
    "train(agent, env, epochs_train, prefix='fc_train')\n",
    "HTML(display_videos('fc_train10.mp4'))"
   ]
  },
  {
   "cell_type": "markdown",
   "metadata": {},
   "source": [
    "# COMPARISON OF DIFFERENT ARCHITECTURES (ALWAYS FULLY CONNECTED) AND PARAMETERS (learning rate, batch size or memory size)"
   ]
  },
  {
   "cell_type": "markdown",
   "metadata": {},
   "source": [
    ">One clear problem coming from the above structure is that it does not provide much space for exploration, as we can see in the video: the agent reaches a corner and find it difficult to move away. We'll deal with this problem later in the project."
   ]
  },
  {
   "cell_type": "markdown",
   "metadata": {},
   "source": [
    "| Architecture       |     Epochs    |   Epsilon parameter | Learning Rate | Batch size|Memory size| Final Test Score (Average over 25 epochs)\n",
    "| :------------ | :-------------: | -------------: | -------------: |-------------: |-------------: |-------------: |\n",
    "   1 layer (30 neurons)| 25      |     0.1     |         0.1 |32 |2000 |0.46|\\n\",\n",
    "   1 layer (50 neurons)| 25      |     0.1     |         0.1 |32 |2000 |1.24|\\n\",\n",
    "   1 layer (200 neurons)| 25      |     0.1     |         0.1 |32 |2000 |-5.5|\\n\",\n",
    "   \n",
    "   \n",
    ">it looks addin more neurons is not helpful so we're gonna stik to 30\n",
    "\n",
    ">Now let's try and change the architecture\n",
    "\n",
    "| Architecture       |     Epochs    |   Epsilon parameter | Learning Rate | Batch size|Memory size| Final Test Score (Average over 25 epochs)\n",
    "| :------------ | :-------------: | -------------: | -------------: |-------------: |-------------: |-------------: |\n",
    "   2 layer (30 neurons)+ BatchNorm| 25      |     0.1     |         0.1 |32 |2000 |1.86|\\n\",\n",
    "   3 layer (30 neurons)+ BatchNorm| 25      |     0.1     |         0.1 |32 |2000 |-1.38|\\n\",\n",
    "   \n",
    "   \n",
    ">it looks like increasing the number of layers is not helping the mean score. so let's stick with 2 layers and try adding some dropout. I'm gonna try with 3 different dropout rates [0.2,0.5,0.7]. In this case the best combination is with a dropout of 0.2\n",
    "\n",
    "| Architecture       |     Epochs    |   Epsilon parameter | Learning Rate | Batch size|Memory size| Final Test Score (Average over 25 epochs)\n",
    "| :------------ | :-------------: | -------------: | -------------: |-------------: |-------------: |-------------: |\n",
    "   2 layer (30 neurons)+ BatchNorm| 25      |     0.1     |         0.1 |32 |2000 |0.5|\\n\",\n",
    "   \n",
    " >Now I'm gonna use the last best architecture (2 layers with BatchNorm and without dropout) and change the learning rate in the following range:learning_rates= [0.01, 0.05, 0.1, 0.2]\n",
    " \n",
    " \n",
    "| Architecture       |     Epochs    |   Epsilon parameter | Learning Rate | Batch size|Memory size| Final Test Score (Average over 25 epochs)\n",
    "| :------------ | :-------------: | -------------: | -------------: |-------------: |-------------: |-------------: |\n",
    "   2 layer (30 neurons)+ BatchNorm| 25      |     0.1     |         0.01 |32 |2000 |-0.46|\\n\",\n",
    "    2 layer (30 neurons)+ BatchNorm| 25      |     0.1     |         0.05 |32 |2000 |-0.92 |\\n\",\n",
    "     2 layer (30 neurons)+ BatchNorm| 25      |     0.1     |         0.1 |32 |2000 |1.86|\\n\",\n",
    "      2 layer (30 neurons)+ BatchNorm| 25      |     0.1     |         0.2 |32 |2000 | -0.48|\\n\",\n",
    "      \n",
    "      \n",
    ">Now again, I'm gonna use the last best architecture (2 layers with BatchNorm and without dropout, lr=0.1) and change the memory size in the following range [1000,2000,3000]\n",
    "\n",
    " \n",
    "| Architecture       |     Epochs    |   Epsilon parameter | Learning Rate | Batch size|Memory size| Final Test Score (Average over 25 epochs)\n",
    "| :------------ | :-------------: | -------------: | -------------: |-------------: |-------------: |-------------: |\n",
    "   2 layer (30 neurons)+ BatchNorm| 25      |     0.1     |         0.1 |32 |1000 |0.12|\\n\",\n",
    "   2 layer (30 neurons)+ BatchNorm| 25      |     0.1     |         0.1 |32 |2000 |1.86|\\n\",\n",
    "   2 layer (30 neurons)+ BatchNorm| 25      |     0.1     |         0.1 |32 |3000 |-0.46|\\n\",\n",
    "   \n",
    " >Finally the last thing to check is the batch size, in the range [10,32,64]\n",
    " \n",
    "| Architecture       |     Epochs    |   Epsilon parameter | Learning Rate | Batch size|Memory size| Final Test Score (Average over 25 epochs)\n",
    "| :------------ | :-------------: | -------------: | -------------: |-------------: |-------------: |-------------: |\n",
    "  2 layer (30 neurons)+ BatchNorm| 25      |     0.1     |         0.1 |10 |2000 |-1.12 |\\n\",\n",
    "  2 layer (30 neurons)+ BatchNorm| 25      |     0.1     |         0.1 |32 |2000 |1.86|\\n\",\n",
    "  2 layer (30 neurons)+ BatchNorm| 25      |     0.1     |         0.1 |64 |2000 |1.38|\\n\",\n",
    " \n",
    " \n",
    "The most evident thing is that there is some stochasticity in the numbers so it's not easy to determine strictly which parameters actually contribute a lot (positively or negatively). However we can see that the learning rate, as well as the memory size, should not be too high, while for the batch size, a value superior to 32 still provides good results.\n",
    "Eventually, the best architecture was one with 2 layers and an output of 30 neurons+ batch normalization, with epsilon=0.1,\n",
    "lr=0.1, batch size=32, mekmory size=2000, that provided a final score of 1.86"
   ]
  },
  {
   "cell_type": "markdown",
   "metadata": {},
   "source": [
    "***\n",
    "***\n",
    "__Question 8__ Implement the DQN training algorithm using a CNN (for example, 2 convolutional layers and one final fully connected layer)."
   ]
  },
  {
   "cell_type": "code",
   "execution_count": 133,
   "metadata": {},
   "outputs": [],
   "source": [
    "class DQN_CNN(DQN):\n",
    "    def __init__(self, *args,lr=0.1,**kwargs):\n",
    "        super(DQN_CNN, self).__init__(*args,**kwargs)\n",
    "        model = Sequential()\n",
    "        model.add(Conv2D(60,(2,2),input_shape=(5,5,self.n_state,),activation='relu'))\n",
    "        model.add(Conv2D(30,(2,2),activation='relu'))\n",
    "        model.add(Flatten())\n",
    "        model.add(Dense(4))\n",
    "        model.compile(sgd(lr=lr, decay=1e-4, momentum=0.0), \"mse\")\n",
    "        self.model = model"
   ]
  },
  {
   "cell_type": "code",
   "execution_count": 132,
   "metadata": {},
   "outputs": [
    {
     "name": "stdout",
     "output_type": "stream",
     "text": [
      "Epoch 000/025 | Loss 0.0162 | Win/lose count 3.0/3.0 (0.0)\n",
      "Epoch 001/025 | Loss 0.0062 | Win/lose count 1.5/1.0 (0.5)\n",
      "Epoch 002/025 | Loss 0.0336 | Win/lose count 3.5/6.0 (-2.5)\n",
      "Epoch 003/025 | Loss 0.0030 | Win/lose count 2.5/5.0 (-2.5)\n",
      "Epoch 004/025 | Loss 0.0010 | Win/lose count 1.0/6.0 (-5.0)\n",
      "Epoch 005/025 | Loss 0.0300 | Win/lose count 4.5/2.0 (2.5)\n",
      "Epoch 006/025 | Loss 0.0054 | Win/lose count 3.5/4.0 (-0.5)\n",
      "Epoch 007/025 | Loss 0.0031 | Win/lose count 1.5/2.0 (-0.5)\n",
      "Epoch 008/025 | Loss 0.0111 | Win/lose count 1.5/3.0 (-1.5)\n",
      "Epoch 009/025 | Loss 0.0008 | Win/lose count 2.0/1.0 (1.0)\n",
      "Epoch 010/025 | Loss 0.0030 | Win/lose count 2.0/3.0 (-1.0)\n",
      "Epoch 011/025 | Loss 0.0059 | Win/lose count 3.0/5.0 (-2.0)\n",
      "Epoch 012/025 | Loss 0.0108 | Win/lose count 9.5/3.0 (6.5)\n",
      "Epoch 013/025 | Loss 0.0029 | Win/lose count 3.5/3.0 (0.5)\n",
      "Epoch 014/025 | Loss 0.0491 | Win/lose count 7.5/3.0 (4.5)\n",
      "Epoch 015/025 | Loss 0.0021 | Win/lose count 5.5/4.0 (1.5)\n",
      "Epoch 016/025 | Loss 0.0971 | Win/lose count 12.5/4.0 (8.5)\n",
      "Epoch 017/025 | Loss 0.0026 | Win/lose count 6.0/0 (6.0)\n",
      "Epoch 018/025 | Loss 0.0023 | Win/lose count 6.0/0 (6.0)\n",
      "Epoch 019/025 | Loss 0.0575 | Win/lose count 5.0/4.0 (1.0)\n",
      "Epoch 020/025 | Loss 0.0021 | Win/lose count 13.5/2.0 (11.5)\n",
      "Epoch 021/025 | Loss 0.0017 | Win/lose count 8.5/8.0 (0.5)\n",
      "Epoch 022/025 | Loss 0.0038 | Win/lose count 10.5/4.0 (6.5)\n",
      "Epoch 023/025 | Loss 0.0034 | Win/lose count 6.0/3.0 (3.0)\n",
      "Epoch 024/025 | Loss 0.0018 | Win/lose count 4.5/2.0 (2.5)\n",
      "Final score: 1.88\n"
     ]
    },
    {
     "data": {
      "text/html": [
       "<video alt=\"test\" controls>\n",
       "                <source src=\"data:video/mp4;base64,AAAAIGZ0eXBpc29tAAACAGlzb21pc28yYXZjMW1wNDEAAAAIZnJlZQAAFittZGF0AAACrQYF//+p3EXpvebZSLeWLNgg2SPu73gyNjQgLSBjb3JlIDE1NyByMjkzNSA1NDVkZTJmIC0gSC4yNjQvTVBFRy00IEFWQyBjb2RlYyAtIENvcHlsZWZ0IDIwMDMtMjAxOCAtIGh0dHA6Ly93d3cudmlkZW9sYW4ub3JnL3gyNjQuaHRtbCAtIG9wdGlvbnM6IGNhYmFjPTEgcmVmPTMgZGVibG9jaz0xOjA6MCBhbmFseXNlPTB4MToweDExMSBtZT1oZXggc3VibWU9NyBwc3k9MSBwc3lfcmQ9MS4wMDowLjAwIG1peGVkX3JlZj0xIG1lX3JhbmdlPTE2IGNocm9tYV9tZT0xIHRyZWxsaXM9MSA4eDhkY3Q9MCBjcW09MCBkZWFkem9uZT0yMSwxMSBmYXN0X3Bza2lwPTEgY2hyb21hX3FwX29mZnNldD00IHRocmVhZHM9NiBsb29rYWhlYWRfdGhyZWFkcz0xIHNsaWNlZF90aHJlYWRzPTAgbnI9MCBkZWNpbWF0ZT0xIGludGVybGFjZWQ9MCBibHVyYXlfY29tcGF0PTAgY29uc3RyYWluZWRfaW50cmE9MCBiZnJhbWVzPTMgYl9weXJhbWlkPTIgYl9hZGFwdD0xIGJfYmlhcz0wIGRpcmVjdD0xIHdlaWdodGI9MSBvcGVuX2dvcD0wIHdlaWdodHA9MiBrZXlpbnQ9MjUwIGtleWludF9taW49MjUgc2NlbmVjdXQ9NDAgaW50cmFfcmVmcmVzaD0wIHJjX2xvb2thaGVhZD00MCByYz1jcmYgbWJ0cmVlPTEgY3JmPTIzLjAgcWNvbXA9MC42MCBxcG1pbj0wIHFwbWF4PTY5IHFwc3RlcD00IGlwX3JhdGlvPTEuNDAgYXE9MToxLjAwAIAAAAK8ZYiEADf//vaH+BTZWBP+Wb/9DX/cj9uPrP1xYyEE31qvIejAGS+1H+b/rFFs6Z6UB/fgCJQAc24ZwpJw4v/ApLdW+BTLYTnE+Uwo5XT/KBbJHQMxCOjSmWlprSxpTyr/NvpEJ8vujr4du4W0PiROfnB1ChoEBieFrSA6RMS8aMcaFK/WuZE+VQkzloO1V9gg+yZDyAACn4VIVNz4oQJDwBM4AS701mrqJ9IPZZZlFbzR3ClFqVkr9jxNNJajJuYAOmDyPYHPTvjZ43O9wYBaLIuyK1GEYUZb06PoCg3qWJMjTMqN1nMz1f5XLu6bZfxj0o3EFy4+uDYfhqsIW1GQAK+ten1Sfp/icLP4fShZqQ1Wp7bAK1kb7vGZQmmnpByHyYceVp7DNCjlHmKXwlV0uVv2HPRGScqRq4elvNHkpZEvM7jGv/fBPegGvw71aFthBMOT2npRCOKIjI1TK5e5FR4B18juk1tIdn61EOx4MSdbGEBjM2k8K0pidLS0p72920QPWQaVeN8W7GMDL2eElnZop3nx5UkzGkF8sAShXbffr98NJiyeekcW1Aplty2yPN/OQOTnVMzb5dZA8lTbSffFbBJBHs+emRQw9k8zjFmQupGt1HarE52OCGnjNrIBbbKZ83cj59np6nH0qbRu6TVBHsz8JojrJJL8pcbG2DyQ9Km+QNgoDVX14bcwSYe9H61NJyI0bkw5jLKa5EibqyD4xKBKalzDDlDLM5i+pNY3ABkOyEwrLIt9Xw/6jC1egBgigp1wKKyakgWDNgRMj2ker3HmmFRcf9cw4Vjw1yCSfwLCgcN+b75pT7D0VPiWNkl+QuItEsfsAmcf3ZB7ZhHfa5xxskQyT4XgAf4pk59u5ggSM9otibGxb68bn3ZfA46azKs3QHkqqMj+TEHeSABc2g//NdHHSAABSwAAABNBmiFsQ3/+p4QAc+In+oz+t+oPAAAAF0GaQjwhkymEO//+qZYAW35BmfhDjTZRAAAAH0GaZknhDyZTAh3//qmWAPvz3eZZZ8+3DJsdjIO85mAAAAAQQZ6ERRE8L/8A/p/u8oOeMQAAABABnqN0Qr8BY8yngdMpuUuBAAAADwGepWpCvwFj5WBdf37JwQAAABNBmqpJqEFomUwId//+qZYAAJWBAAAADEGeyEURLC//AACygAAAAA8Bnud0Qr8BbLR3R23wqP8AAAAQAZ7pakK/AjKVsXqDDjyhgQAAABNBmu5JqEFsmUwId//+qZYAAJWAAAAAFEGfDEUVLC//AbHrOTNt8XrXVdgQAAAADwGfK3RCvwJJGE2DZLtSNwAAAA8Bny1qQr8CSA/Go0h38dcAAAAaQZsxSahBbJlMCHf//qmWAQVRzrQ9X22EpIEAAAASQZ9PRRUsK/8CMw0u8kg7U4XcAAAADwGfcGpCvwIyTFdTQNI44AAAABxBm3VJqEFsmUwId//+qZYEeCzFpme+e7S+uMxZAAAAEEGfk0UVLC//AcMjJbgIl4AAAAAPAZ+ydEK/Al8YTYNku1ImAAAADwGftGpCvwJfYDjA/LBwQQAAABNBm7lJqEFsmUwId//+qZYAAJWAAAAADEGf10UVLC//AACygQAAABABn/Z0Qr8CVLAN0gD7d1tBAAAAEAGf+GpCvwJUsA3I9fv3mYAAAAAdQZv7SahBbJlMFEw7//6plgSfhR9KfbULIUt8igkAAAAPAZ4aakK/Al4PxqNId/HNAAAAEkGaH0nhClJlMCHf/qmWAACVgQAAABNBnj1FNEwv/wGjHz6LFcTaPaLTAAAAEAGeXHRCvwIzJlBPizE+F3AAAAAQAZ5eakK/AjJMV030kGkccAAAABNBmkNJqEFomUwId//+qZYAAJWBAAAAEEGeYUURLC//AaPoG8cA0WkAAAAQAZ6AdEK/AjMmUE+LMT4XcQAAABABnoJqQr8CMkxXTfSQaRxwAAAAHEGah0moQWyZTAh3//6plgR4LMWmZ757tL64zFkAAAAQQZ6lRRUsL/8BwyMluAiXgQAAAA8BnsR0Qr8CXxhNg2S7UicAAAAPAZ7GakK/Al9gOMD8sHBBAAAAE0Gay0moQWyZTAh3//6plgAAlYAAAAAMQZ7pRRUsL/8AALKAAAAAEAGfCHRCvwJUsA3SAPt3W0EAAAAQAZ8KakK/AlSwDcj1+/eZgAAAABNBmw9JqEFsmUwId//+qZYAAJWAAAAADEGfLUUVLC//AACygQAAABABn0x0Qr8CVLAN0gD7d1tBAAAAEAGfTmpCvwJUsA3I9fv3mYEAAAATQZtTSahBbJlMCHf//qmWAACVgAAAAAxBn3FFFSwv/wAAsoAAAAAQAZ+QdEK/AlSwDdIA+3dbQQAAABABn5JqQr8CVLANyPX795mAAAAAE0Gbl0moQWyZTAh3//6plgAAlYAAAAAMQZ+1RRUsL/8AALKBAAAAEAGf1HRCvwJUsA3SAPt3W0AAAAAQAZ/WakK/AlSwDcj1+/eZgQAAABNBm9tJqEFsmUwId//+qZYAAJWBAAAADEGf+UUVLC//AACygAAAABABnhh0Qr8CVLAN0gD7d1tBAAAAEAGeGmpCvwJUsA3I9fv3mYAAAAAaQZoeSahBbJlMCHf//qmWBJ+FH0AGHR7SdcEAAAAPQZ48RRUsK/8CXg/TGFtBAAAADQGeXWpCvwJfYD00g4IAAAATQZpCSahBbJlMCHf//qmWAACVgAAAAAxBnmBFFSwv/wAAsoEAAAAQAZ6fdEK/AXGyjvwAfbpXwAAAABABnoFqQr8CXmodCE0+yDghAAAAE0GahkmoQWyZTAh3//6plgAAlYAAAAAMQZ6kRRUsL/8AALKBAAAAEAGew3RCvwJfYrGD4N295mEAAAAQAZ7FakK/Al5qHQhNPsg4IQAAABNBmspJqEFsmUwId//+qZYAAJWBAAAADEGe6EUVLC//AACygAAAABABnwd0Qr8CX2Kxg+DdveZgAAAAEAGfCWpCvwJeah0ITT7IOCEAAAATQZsOSahBbJlMCHf//qmWAACVgAAAAAxBnyxFFSwv/wAAsoAAAAAQAZ9LdEK/Al9isYPg3b3mYQAAABABn01qQr8CXmodCE0+yDghAAAAE0GbUkmoQWyZTAh3//6plgAAlYEAAAAMQZ9wRRUsL/8AALKAAAAAEAGfj3RCvwJfYrGD4N295mAAAAAQAZ+RakK/Al5qHQhNPsg4IQAAABNBm5ZJqEFsmUwId//+qZYAAJWAAAAADEGftEUVLC//AACygAAAABABn9N0Qr8CX2Kxg+DdveZhAAAAEAGf1WpCvwJeah0ITT7IOCAAAAATQZvaSahBbJlMCHf//qmWAACVgQAAAAxBn/hFFSwv/wAAsoEAAAAQAZ4XdEK/Al9isYPg3b3mYAAAABABnhlqQr8CXmodCE0+yDghAAAAE0GaHkmoQWyZTAh3//6plgAAlYAAAAAMQZ48RRUsL/8AALKBAAAAEAGeW3RCvwJfYrGD4N295mEAAAAQAZ5dakK/Al5qHQhNPsg4IAAAABNBmkJJqEFsmUwId//+qZYAAJWAAAAADEGeYEUVLC//AACygQAAABABnp90Qr8CX2Kxg+DdveZgAAAAEAGegWpCvwJeah0ITT7IOCEAAAATQZqGSahBbJlMCHf//qmWAACVgAAAAAxBnqRFFSwv/wAAsoEAAAAQAZ7DdEK/Al9isYPg3b3mYQAAABABnsVqQr8CXmodCE0+yDghAAAAE0GaykmoQWyZTAh3//6plgAAlYEAAAAMQZ7oRRUsL/8AALKAAAAAEAGfB3RCvwJfYrGD4N295mAAAAAQAZ8JakK/Al5qHQhNPsg4IQAAABNBmw5JqEFsmUwId//+qZYAAJWAAAAADEGfLEUVLC//AACygAAAABABn0t0Qr8CX2Kxg+DdveZhAAAAEAGfTWpCvwJeah0ITT7IOCEAAAATQZtSSahBbJlMCHf//qmWAACVgQAAAAxBn3BFFSwv/wAAsoAAAAAQAZ+PdEK/Al9isYPg3b3mYAAAABABn5FqQr8CXmodCE0+yDghAAAAE0GblkmoQWyZTAh3//6plgAAlYAAAAAMQZ+0RRUsL/8AALKAAAAAEAGf03RCvwJfYrGD4N295mEAAAAQAZ/VakK/Al5qHQhNPsg4IAAAABpBm9lJqEFsmUwId//+qZYBF/JI/aDo6juBswAAABJBn/dFFSwr/wJe/A6D8MZ4nYEAAAAOAZ4YakK/Al4QAOO+pEwAAAATQZodSahBbJlMCHf//qmWAACVgQAAABNBnjtFFSwv/wGjHz6LFcTaPaLSAAAAEAGeWnRCvwIzJlBPizE+F3EAAAAQAZ5cakK/AkiuDXHfiyu6YQAAABNBmkFJqEFsmUwId//+qZYAAJWAAAAAEEGef0UVLC//AaPoG8cA0WkAAAAQAZ6edEK/AjMmUE+LMT4XcQAAABABnoBqQr8CMkxXTfSQaRxwAAAAGUGahUmoQWyZTAh3//6plgOBTew8efxikHEAAAAQQZ6jRRUsL/8Bo5+i+wL3hAAAAA8BnsJ0Qr8CSWKxgv7Qc0EAAAAQAZ7EakK/AjLtqG4z688LuQAAABNBmslJqEFsmUwId//+qZYAAJWBAAAAEEGe50UVLC//AaPoG8cA0WkAAAAQAZ8GdEK/AjICe+V+SmYXcAAAABABnwhqQr8CMu2objPrzwu4AAAAG0GbDUmoQWyZTAh3//6plgObpdA4f5WgOC4OmQAAABBBnytFFSwv/wGjQEV3Gi0gAAAAEAGfSnRCvwIyAnvlfkpmF3AAAAAPAZ9MakK/AkhqHQmm0HNBAAAAE0GbUUmoQWyZTAh3//6plgAAlYEAAAARQZ9vRRUsL/8Bo8Z4xIwBasEAAAAQAZ+OdEK/AjMmUE+LMT4XcAAAABABn5BqQr8CSK4Ncd+LK7pgAAAAHEGblUmoQWyZTAhv//6nhAimrVMf6c7u6nvSKCEAAAAQQZ+zRRUsL/8BwyMluAiXgAAAAA8Bn9J0Qr8CXxhNg2S7UiYAAAAPAZ/UakK/Al9gOMD8sHBBAAAAHEGb1kmoQWyZTAh3//6plgSfiEBzfveSFL/gi4AAAAARQZv6SeEKUmUwIb/+p4QAAScAAAAMQZ4YRTRML/8AALKBAAAAEAGeN3RCvwFxso78AH26V8AAAAAQAZ45akK/Al5qHQhNPsg4IQAAABJBmj5JqEFomUwIb//+p4QAAScAAAAMQZ5cRREsL/8AALKBAAAAEAGee3RCvwJfYrGD4N295mEAAAAQAZ59akK/Al5qHQhNPsg4IAAAACBBmmBJqEFsmUwUTDf//qeECevwPBm1SkugQn6rD4WxbQAAABABnp9qQr8Cdj7wK/WKEHBBAAAAF0GagUnhClJlMCG//qeECfZYokUJ3qQ8AAAAGUGaoknhDomUwId//qmWASfvq+pRh0gEQ8EAAAAoQZrGSeEPJlMCHf/+qZYHHJMD4hISD/+ErGgT//wBM6NQGX9p+7j6PgAAABRBnuRFETwv/wIB3x3qU2/frcutgQAAAA8BnwN0Qr8BiZLNwbJeMZcAAAAQAZ8FakK/Aq9nQAPqfHCRgQAAAB1BmwpJqEFomUwIb//+p4QM9xP9HqoEJ/e+6iUZ8QAAABBBnyhFESwv/wIBGtXhSMzAAAAAEAGfR3RCvwKt1aMkqdGS44AAAAAPAZ9JakK/ApDWu7n/XJGBAAAAGkGbTEmoQWyZTBRMN//+p4QM/jJbt46d6RJwAAAADwGfa2pCvwKvYjyYDfclxwAAABdBm29J4QpSZTAhv/6nhAz7J74X/j6KSQAAABJBn41FNEwr/wKuUAN0mAbksoEAAAAQAZ+uakK/ApFoE7ockFYZUQAAABlBm7BJqEFomUwId//+qZYGH0c0s6OnTgFJAAAAEkGb1EnhClJlMCHf/qmWAACVgAAAABNBn/JFNEwv/wHXEsnlGWXIZ1WVAAAAEAGeEXRCvwJ0/gMkrhGc7oAAAAAQAZ4TakK/AnY8HkwJu5zugAAAABNBmhhJqEFomUwId//+qZYAAJWBAAAAEEGeNkURLC//AdcSyfrG82YAAAAQAZ5VdEK/AnT+AySuEZzugQAAABABnldqQr8CdjweTAm7nO6BAAAAE0GaXEmoQWyZTAh3//6plgAAlYAAAAAQQZ56RRUsL/8B1xLJ+sbzZwAAABABnpl0Qr8CdP4DJK4RnO6AAAAAEAGem2pCvwJ2PB5MCbuc7oEAAAAZQZqASahBbJlMCG///qeECk7MfidSDpGYEQAAABBBnr5FFSwv/wHV+79RbZOAAAAAEAGe3XRCvwJ0/gMkrhGc7oAAAAAPAZ7fakK/Al5qHQmm0HBBAAAAEkGaxEmoQWyZTAhv//6nhAABJwAAABBBnuJFFSwv/wHW10n3ObZPAAAADwGfAXRCvwJ2hWq8A+fHFwAAABABnwNqQr8CdWX6o+JFzndBAAAAEkGbCEmoQWyZTAhf//6MsAAEjQAAABBBnyZFFSwv/wHXEsn6xvNnAAAADwGfRXRCvwJ2hWq8A+fHFwAAABABn0dqQr8CdWX6o+JFzndAAAAAGkGbSUuoQhBbJEYIKAfyAf2HgCFf/jhAABFwAAAMUG1vb3YAAABsbXZoZAAAAAAAAAAAAAAAAAAAA+gAAB+QAAEAAAEAAAAAAAAAAAAAAAABAAAAAAAAAAAAAAAAAAAAAQAAAAAAAAAAAAAAAAAAQAAAAAAAAAAAAAAAAAAAAAAAAAAAAAAAAAAAAAAAAAIAAAt6dHJhawAAAFx0a2hkAAAAAwAAAAAAAAAAAAAAAQAAAAAAAB+QAAAAAAAAAAAAAAAAAAAAAAABAAAAAAAAAAAAAAAAAAAAAQAAAAAAAAAAAAAAAAAAQAAAAAEQAAABEAAAAAAAJGVkdHMAAAAcZWxzdAAAAAAAAAABAAAfkAAABAAAAQAAAAAK8m1kaWEAAAAgbWRoZAAAAAAAAAAAAAAAAAAAMgAAAZQAVcQAAAAAAC1oZGxyAAAAAAAAAAB2aWRlAAAAAAAAAAAAAAAAVmlkZW9IYW5kbGVyAAAACp1taW5mAAAAFHZtaGQAAAABAAAAAAAAAAAAAAAkZGluZgAAABxkcmVmAAAAAAAAAAEAAAAMdXJsIAAAAAEAAApdc3RibAAAAJVzdHNkAAAAAAAAAAEAAACFYXZjMQAAAAAAAAABAAAAAAAAAAAAAAAAAAAAAAEQARAASAAAAEgAAAAAAAAAAQAAAAAAAAAAAAAAAAAAAAAAAAAAAAAAAAAAAAAAAAAAABj//wAAAC9hdmNDAfQADf/hABdn9AANkZsoIhHQgAAAAwCAAAAZB4oUywEABWjr48RIAAAAGHN0dHMAAAAAAAAAAQAAAMoAAAIAAAAAFHN0c3MAAAAAAAAAAQAAAAEAAAYoY3R0cwAAAAAAAADDAAAAAwAABAAAAAABAAAKAAAAAAEAAAQAAAAAAQAAAAAAAAABAAACAAAAAAEAAAoAAAAAAQAABAAAAAABAAAAAAAAAAEAAAIAAAAAAQAACgAAAAABAAAEAAAAAAEAAAAAAAAAAQAAAgAAAAABAAAIAAAAAAIAAAIAAAAAAQAACgAAAAABAAAEAAAAAAEAAAAAAAAAAQAAAgAAAAABAAAKAAAAAAEAAAQAAAAAAQAAAAAAAAABAAACAAAAAAEAAAYAAAAAAQAAAgAAAAABAAAKAAAAAAEAAAQAAAAAAQAAAAAAAAABAAACAAAAAAEAAAoAAAAAAQAABAAAAAABAAAAAAAAAAEAAAIAAAAAAQAACgAAAAABAAAEAAAAAAEAAAAAAAAAAQAAAgAAAAABAAAKAAAAAAEAAAQAAAAAAQAAAAAAAAABAAACAAAAAAEAAAoAAAAAAQAABAAAAAABAAAAAAAAAAEAAAIAAAAAAQAACgAAAAABAAAEAAAAAAEAAAAAAAAAAQAAAgAAAAABAAAKAAAAAAEAAAQAAAAAAQAAAAAAAAABAAACAAAAAAEAAAoAAAAAAQAABAAAAAABAAAAAAAAAAEAAAIAAAAAAQAACAAAAAACAAACAAAAAAEAAAoAAAAAAQAABAAAAAABAAAAAAAAAAEAAAIAAAAAAQAACgAAAAABAAAEAAAAAAEAAAAAAAAAAQAAAgAAAAABAAAKAAAAAAEAAAQAAAAAAQAAAAAAAAABAAACAAAAAAEAAAoAAAAAAQAABAAAAAABAAAAAAAAAAEAAAIAAAAAAQAACgAAAAABAAAEAAAAAAEAAAAAAAAAAQAAAgAAAAABAAAKAAAAAAEAAAQAAAAAAQAAAAAAAAABAAACAAAAAAEAAAoAAAAAAQAABAAAAAABAAAAAAAAAAEAAAIAAAAAAQAACgAAAAABAAAEAAAAAAEAAAAAAAAAAQAAAgAAAAABAAAKAAAAAAEAAAQAAAAAAQAAAAAAAAABAAACAAAAAAEAAAoAAAAAAQAABAAAAAABAAAAAAAAAAEAAAIAAAAAAQAACgAAAAABAAAEAAAAAAEAAAAAAAAAAQAAAgAAAAABAAAKAAAAAAEAAAQAAAAAAQAAAAAAAAABAAACAAAAAAEAAAoAAAAAAQAABAAAAAABAAAAAAAAAAEAAAIAAAAAAQAACgAAAAABAAAEAAAAAAEAAAAAAAAAAQAAAgAAAAABAAAIAAAAAAIAAAIAAAAAAQAACgAAAAABAAAEAAAAAAEAAAAAAAAAAQAAAgAAAAABAAAKAAAAAAEAAAQAAAAAAQAAAAAAAAABAAACAAAAAAEAAAoAAAAAAQAABAAAAAABAAAAAAAAAAEAAAIAAAAAAQAACgAAAAABAAAEAAAAAAEAAAAAAAAAAQAAAgAAAAABAAAKAAAAAAEAAAQAAAAAAQAAAAAAAAABAAACAAAAAAEAAAoAAAAAAQAABAAAAAABAAAAAAAAAAEAAAIAAAAAAQAACgAAAAABAAAEAAAAAAEAAAAAAAAAAQAAAgAAAAABAAAEAAAAAAEAAAoAAAAAAQAABAAAAAABAAAAAAAAAAEAAAIAAAAAAQAACgAAAAABAAAEAAAAAAEAAAAAAAAAAQAAAgAAAAABAAAGAAAAAAEAAAIAAAAAAgAABAAAAAABAAAKAAAAAAEAAAQAAAAAAQAAAAAAAAABAAACAAAAAAEAAAoAAAAAAQAABAAAAAABAAAAAAAAAAEAAAIAAAAAAQAABgAAAAABAAACAAAAAAEAAAgAAAAAAgAAAgAAAAABAAAEAAAAAAEAAAoAAAAAAQAABAAAAAABAAAAAAAAAAEAAAIAAAAAAQAACgAAAAABAAAEAAAAAAEAAAAAAAAAAQAAAgAAAAABAAAKAAAAAAEAAAQAAAAAAQAAAAAAAAABAAACAAAAAAEAAAoAAAAAAQAABAAAAAABAAAAAAAAAAEAAAIAAAAAAQAACgAAAAABAAAEAAAAAAEAAAAAAAAAAQAAAgAAAAABAAAKAAAAAAEAAAQAAAAAAQAAAAAAAAABAAACAAAAAAEAAAQAAAAAHHN0c2MAAAAAAAAAAQAAAAEAAADKAAAAAQAAAzxzdHN6AAAAAAAAAAAAAADKAAAFcQAAABcAAAAbAAAAIwAAABQAAAAUAAAAEwAAABcAAAAQAAAAEwAAABQAAAAXAAAAGAAAABMAAAATAAAAHgAAABYAAAATAAAAIAAAABQAAAATAAAAEwAAABcAAAAQAAAAFAAAABQAAAAhAAAAEwAAABYAAAAXAAAAFAAAABQAAAAXAAAAFAAAABQAAAAUAAAAIAAAABQAAAATAAAAEwAAABcAAAAQAAAAFAAAABQAAAAXAAAAEAAAABQAAAAUAAAAFwAAABAAAAAUAAAAFAAAABcAAAAQAAAAFAAAABQAAAAXAAAAEAAAABQAAAAUAAAAHgAAABMAAAARAAAAFwAAABAAAAAUAAAAFAAAABcAAAAQAAAAFAAAABQAAAAXAAAAEAAAABQAAAAUAAAAFwAAABAAAAAUAAAAFAAAABcAAAAQAAAAFAAAABQAAAAXAAAAEAAAABQAAAAUAAAAFwAAABAAAAAUAAAAFAAAABcAAAAQAAAAFAAAABQAAAAXAAAAEAAAABQAAAAUAAAAFwAAABAAAAAUAAAAFAAAABcAAAAQAAAAFAAAABQAAAAXAAAAEAAAABQAAAAUAAAAFwAAABAAAAAUAAAAFAAAABcAAAAQAAAAFAAAABQAAAAeAAAAFgAAABIAAAAXAAAAFwAAABQAAAAUAAAAFwAAABQAAAAUAAAAFAAAAB0AAAAUAAAAEwAAABQAAAAXAAAAFAAAABQAAAAUAAAAHwAAABQAAAAUAAAAEwAAABcAAAAVAAAAFAAAABQAAAAgAAAAFAAAABMAAAATAAAAIAAAABUAAAAQAAAAFAAAABQAAAAWAAAAEAAAABQAAAAUAAAAJAAAABQAAAAbAAAAHQAAACwAAAAYAAAAEwAAABQAAAAhAAAAFAAAABQAAAATAAAAHgAAABMAAAAbAAAAFgAAABQAAAAdAAAAFgAAABcAAAAUAAAAFAAAABcAAAAUAAAAFAAAABQAAAAXAAAAFAAAABQAAAAUAAAAHQAAABQAAAAUAAAAEwAAABYAAAAUAAAAEwAAABQAAAAWAAAAFAAAABMAAAAUAAAAHgAAABRzdGNvAAAAAAAAAAEAAAAwAAAAYnVkdGEAAABabWV0YQAAAAAAAAAhaGRscgAAAAAAAAAAbWRpcmFwcGwAAAAAAAAAAAAAAAAtaWxzdAAAACWpdG9vAAAAHWRhdGEAAAABAAAAAExhdmY1OC4yNi4xMDA=\" type=\"video/mp4\" />\n",
       "             </video>"
      ],
      "text/plain": [
       "<IPython.core.display.HTML object>"
      ]
     },
     "execution_count": 132,
     "metadata": {},
     "output_type": "execute_result"
    }
   ],
   "source": [
    "env = Environment(grid_size=size, max_time=T, temperature=0.3)\n",
    "agent = DQN_CNN(size, lr=.1, epsilon = 0.1, memory_size=2000, batch_size = 32)\n",
    "train(agent,env,epochs_train,prefix='cnn_train')\n",
    "HTML(display_videos('cnn_train10.mp4'))"
   ]
  },
  {
   "cell_type": "markdown",
   "metadata": {},
   "source": [
    "# COMPARISON OF DIFFERENT ARCHITECTURES (CNN)"
   ]
  },
  {
   "cell_type": "markdown",
   "metadata": {},
   "source": [
    ">We can immediately notice that the final score coming from the above architecture is equal to 7.08 which is already much higher than\n",
    "any score we obtained before using only fully connected layers (not a surprise).\n",
    ">In the previous case (fully connected layers), we saw that some good parameters were: lr=0.1, batch size=32 and memory size=2000, so we're gonna start from those, and change the structure of the network."
   ]
  },
  {
   "cell_type": "markdown",
   "metadata": {},
   "source": [
    " \n",
    "| Architecture       |     Epochs    |   Epsilon parameter | Learning Rate | Batch size|Memory size| Final Test Score (Average over 25 epochs)\n",
    "| :------------ | :-------------: | -------------: | -------------: |-------------: |-------------: |-------------: |\n",
    "2 layers (60 and 30 nn)| 25      |     0.1     |         0.1 |32 |2000 |7.08|\\n\",\n",
    "   2 layers (60 and 30 nn)+ MaxPooling2D(2,2)| 25      |     0.1     |         0.1 |32 |2000 |1.62|\\n\",\n",
    "   2 layers (60 and 30 nn)+ Dropout(0.2)| 25      |     0.1     |         0.1 |32 |2000 |4.2 |\\n\",\n",
    "   2 layers (60 and 30 nn)+ Dropout(0.5)| 25      |     0.1     |         0.1 |32 |2000 | 3.44|\\n\",\n",
    "   2 layers (60 and 30 nn)+Adam opt| 25      |     0.1     |         0.1 |32 |2000 |-3.98 |\\n\",\n",
    "   \n",
    "   \n",
    ">We can see that the best architectures is the first one with 2 convolutional layers and the sgd optimizer."
   ]
  },
  {
   "cell_type": "markdown",
   "metadata": {},
   "source": [
    "***\n",
    "***\n",
    "__Question 9__ Test both algorithms and compare their performances. Which issue(s) do you observe? Observe also different behaviors by changing the temperature."
   ]
  },
  {
   "cell_type": "code",
   "execution_count": 135,
   "metadata": {},
   "outputs": [
    {
     "name": "stdout",
     "output_type": "stream",
     "text": [
      "Test of the CNN\n",
      "Win/lose count 1.5/0. Average score (1.5)\n",
      "Win/lose count 1.5/0. Average score (1.5)\n",
      "Win/lose count 1.0/1.0. Average score (1.0)\n",
      "Win/lose count 3.5/0. Average score (1.625)\n",
      "Win/lose count 2.0/1.0. Average score (1.5)\n",
      "Win/lose count 0.5/0. Average score (1.3333333333333333)\n",
      "Win/lose count 0.5/0. Average score (1.2142857142857142)\n",
      "Win/lose count 2.0/0. Average score (1.3125)\n",
      "Win/lose count 0/0. Average score (1.1666666666666667)\n",
      "Win/lose count 4.0/1.0. Average score (1.35)\n",
      "Final score: 1.35\n",
      "Test of the FC\n",
      "Win/lose count 1.0/0. Average score (1.0)\n",
      "Win/lose count 1.5/4.0. Average score (-0.75)\n",
      "Win/lose count 0/0. Average score (-0.5)\n",
      "Win/lose count 1.0/2.0. Average score (-0.625)\n",
      "Win/lose count 1.0/2.0. Average score (-0.7)\n",
      "Win/lose count 0.5/0. Average score (-0.5)\n",
      "Win/lose count 1.0/5.0. Average score (-1.0)\n",
      "Win/lose count 1.5/1.0. Average score (-0.8125)\n",
      "Win/lose count 0/0. Average score (-0.7222222222222222)\n",
      "Win/lose count 0.5/0. Average score (-0.6)\n",
      "Final score: -0.6\n"
     ]
    }
   ],
   "source": [
    "epochs_test=10\n",
    "env = Environment(grid_size=size, max_time=T,temperature=0.3)\n",
    "agent_cnn = DQN_CNN(size, lr=.1, epsilon = 0.1, memory_size=2000, batch_size = 32)\n",
    "agent_cnn.load(name_weights='cnn_trainmodel.h5',name_model='cnn_trainmodel.json')\n",
    "\n",
    "agent_fc = DQN_FC(size, lr=.1, epsilon = 0.1, memory_size=2000, batch_size = 32)\n",
    "agent_cnn.load(name_weights='fc_trainmodel.h5',name_model='fc_trainmodel.json')\n",
    "print('Test of the CNN')\n",
    "test(agent_cnn,env,epochs_test,prefix='cnn_test')\n",
    "print('Test of the FC')\n",
    "test(agent_fc,env,epochs_test,prefix='fc_test')"
   ]
  },
  {
   "cell_type": "code",
   "execution_count": null,
   "metadata": {},
   "outputs": [],
   "source": [
    "HTML(display_videos('cnn_test10.mp4'))"
   ]
  },
  {
   "cell_type": "code",
   "execution_count": null,
   "metadata": {},
   "outputs": [],
   "source": [
    "HTML(display_videos('fc_test10.mp4'))"
   ]
  },
  {
   "cell_type": "markdown",
   "metadata": {},
   "source": [
    ">Both architectures show the same problem: the agent tends not to explore the entire area, but mainly sticks to a certain corner, which implies that we should try to improve the exploration policy.\n",
    ">Now we're gonna try changing the temperature in the range [0.1,0.3,0.6,0.9] for the best architectures of the 2 cases.\n",
    "\n",
    "\n",
    "| Architecture       |    Temperature    | Final Test Score (Average over 25 epochs)\n",
    "| :------------ | :-------------: | -------------: | \n",
    "CNN|0.1 |1.06|\\n\",\n",
    "CNN|0.3 | 7.08|\\n\",\n",
    "CNN|0.6 |9.18 |\\n\",\n",
    "CNN|0.9 | 26.64|\\n\",\n",
    "FC|0.1 |-0.14|\\n\",\n",
    "FC|0.3 |0.96|\\n\",\n",
    "FC|0.6 |3.9|\\n\",\n",
    "FC|0.9 |16.16|\\n\",\n",
    "\n",
    "\n",
    ">We can see that the overall score using the CNN srchitecture is highly better than the one obtained using FC networks. THis gap is increasing with the temperature. This gap between the 2 scores increases with temperature.\n"
   ]
  },
  {
   "cell_type": "markdown",
   "metadata": {},
   "source": [
    "***\n",
    "\n",
    "The algorithm tends to not explore the map which can be an issue. We propose two ideas in order to encourage exploration:\n",
    "1. Incorporating a decreasing $\\epsilon$-greedy exploration. You can use the method ```set_epsilon```\n",
    "2. Append via the environment a new state that describes if a cell has been visited or not\n",
    "\n",
    "***\n",
    "__Question 10__ Design a new ```train_explore``` function and environment class ```EnvironmentExploring``` to tackle the issue of exploration.\n",
    "\n"
   ]
  },
  {
   "cell_type": "code",
   "execution_count": 146,
   "metadata": {},
   "outputs": [],
   "source": [
    "\n",
    "def train_explore(agent,env,epoch,decay_parameter_epsilon=0.3,prefix=''):\n",
    "    #now we know that the problem here is the exploration, therefore we're gonna use the decay paramter epsilon\n",
    "    #in order to try the first of the methods proposed above\n",
    "    # Number of won games\n",
    "    score = 0\n",
    "    loss = 0\n",
    "    for e in range(epoch):\n",
    "        # At each epoch, we restart to a fresh game and get the initial state\n",
    "        state = env.reset()\n",
    "        # This assumes that the games will terminate\n",
    "        game_over = False\n",
    "\n",
    "        win = 0\n",
    "        lose = 0\n",
    "        agent.set_epsilon(agent.epsilon*(1-decay_parameter_epsilon))\n",
    "        while not game_over:\n",
    "            # The agent performs an action\n",
    "            action = agent.act(state)\n",
    "\n",
    "            # Apply an action to the environment, get the next state, the reward\n",
    "            # and if the games end\n",
    "            prev_state = state\n",
    "            state, reward, game_over = env.act(action, train=True)\n",
    "\n",
    "            # Update the counters\n",
    "            if reward > 0:\n",
    "                win = win + reward\n",
    "            if reward < 0:\n",
    "                lose = lose -reward\n",
    "\n",
    "            # Apply the reinforcement strategy\n",
    "            loss = agent.reinforce(prev_state, state,  action, reward, game_over)\n",
    "\n",
    "        # Save as a mp4\n",
    "        if e % 10 == 0:\n",
    "            env.draw(prefix+str(e))\n",
    "\n",
    "        # Update stats\n",
    "        score += win-lose\n",
    "\n",
    "        print(\"Epoch {:03d}/{:03d} | Loss {:.4f} | Win/lose count {}/{} ({})\"\n",
    "              .format(e, epoch, loss, win, lose, win-lose))\n",
    "        agent.save(name_weights=prefix+'model.h5',name_model=prefix+'model.json')\n",
    "        \n",
    "    \n",
    "    \n",
    "class EnvironmentExploring(object):\n",
    "    def __init__(self, grid_size=10, max_time=500, temperature=0.1):\n",
    "        grid_size = grid_size+4\n",
    "        self.grid_size = grid_size\n",
    "        self.max_time = max_time\n",
    "        self.temperature = temperature\n",
    "        self.board = np.zeros((grid_size,grid_size))\n",
    "        self.position = np.zeros((grid_size,grid_size))\n",
    "        self.malus_position = np.zeros((grid_size,grid_size)) #define maluses when going to a previously visited position\n",
    "        # coordinate of the cat\n",
    "        self.x = 0\n",
    "        self.y = 1\n",
    "\n",
    "        # self time\n",
    "        self.t = 0\n",
    "\n",
    "        self.scale=16\n",
    "\n",
    "        self.to_draw = np.zeros((max_time+2, grid_size*self.scale, grid_size*self.scale, 3))\n",
    "\n",
    "\n",
    "    def draw(self,e):\n",
    "        skvideo.io.vwrite(str(e) + '.mp4', self.to_draw)\n",
    "\n",
    "    def get_frame(self,t):\n",
    "        b = np.zeros((self.grid_size,self.grid_size,3))+128\n",
    "        b[self.board>0,0] = 256\n",
    "        b[self.board < 0, 2] = 256\n",
    "        b[self.x,self.y,:]=256\n",
    "        b[-2:,:,:]=0\n",
    "        b[:,-2:,:]=0\n",
    "        b[:2,:,:]=0\n",
    "        b[:,:2,:]=0\n",
    "        \n",
    "        b =  cv2.resize(b, None, fx=self.scale, fy=self.scale, interpolation=cv2.INTER_NEAREST)\n",
    "\n",
    "        self.to_draw[t,:,:,:]=b\n",
    "        \n",
    "    def act(self, action,train=False):\n",
    "        \"\"\"This function returns the new state, reward and decides if the\n",
    "        game ends.\"\"\"\n",
    "        #Here we add a new parameter in order to promote exploration, given that, as we said before,\n",
    "        #we are facing the problem of a lack of exploration\n",
    "\n",
    "        self.get_frame(int(self.t))\n",
    "\n",
    "        self.position = np.zeros((self.grid_size, self.grid_size))\n",
    "\n",
    "        self.position[0:2,:]= -1\n",
    "        self.position[:,0:2] = -1\n",
    "        self.position[-2:, :] = -1\n",
    "        self.position[:, -2:] = -1\n",
    "\n",
    "        self.position[self.x, self.y] = 1\n",
    "        if action == 0:\n",
    "            if self.x == self.grid_size-3:\n",
    "                self.x = self.x-1\n",
    "            else:\n",
    "                self.x = self.x + 1\n",
    "        elif action == 1:\n",
    "            if self.x == 2:\n",
    "                self.x = self.x+1\n",
    "            else:\n",
    "                self.x = self.x-1\n",
    "        elif action == 2:\n",
    "            if self.y == self.grid_size - 3:\n",
    "                self.y = self.y - 1\n",
    "            else:\n",
    "                self.y = self.y + 1\n",
    "        elif action == 3:\n",
    "            if self.y == 2:\n",
    "                self.y = self.y + 1\n",
    "            else:\n",
    "                self.y = self.y - 1\n",
    "        else:\n",
    "            RuntimeError('Error: action not recognized')\n",
    "\n",
    "        self.t = self.t + 1     \n",
    "        \n",
    "        ## In Environment exploring:\n",
    "        # You will have to change n_state to 3 because you will use one more layer!\n",
    "        reward = 0\n",
    "        if train:\n",
    "            reward = -self.malus_position[self.x, self.y]\n",
    "        self.malus_position[self.x, self.y] = 0.1\n",
    "\n",
    "        reward = reward + self.board[self.x, self.y]\n",
    "        self.board[self.x, self.y] = 0\n",
    "        game_over = self.t > self.max_time\n",
    "        # 3 \"feature\" states instead of 2\n",
    "        state = np.concatenate((self.malus_position.reshape(self.grid_size, self.grid_size,1),\n",
    "                                        self.board.reshape(self.grid_size, self.grid_size,1),\n",
    "                                self.position.reshape(self.grid_size, self.grid_size,1)),axis=2)\n",
    "        state = state[self.x-2:self.x+3,self.y-2:self.y+3,:]\n",
    "\n",
    "        return state, reward, game_over\n",
    "\n",
    "    def reset(self):\n",
    "        \"\"\"This function resets the game and returns the initial state\"\"\"\n",
    "\n",
    "        self.x = np.random.randint(3, self.grid_size-3, size=1)[0]\n",
    "        self.y = np.random.randint(3, self.grid_size-3, size=1)[0]\n",
    "\n",
    "\n",
    "        bonus = 0.5*np.random.binomial(1,self.temperature,size=self.grid_size**2)\n",
    "        bonus = bonus.reshape(self.grid_size,self.grid_size)\n",
    "\n",
    "        malus = -1.0*np.random.binomial(1,self.temperature,size=self.grid_size**2)\n",
    "        malus = malus.reshape(self.grid_size, self.grid_size)\n",
    "\n",
    "        self.to_draw = np.zeros((self.max_time+2, self.grid_size*self.scale, self.grid_size*self.scale, 3))\n",
    "\n",
    "\n",
    "        malus[bonus>0]=0\n",
    "\n",
    "        self.board = bonus + malus\n",
    "\n",
    "        self.position = np.zeros((self.grid_size, self.grid_size))\n",
    "        self.position[0:2,:]= -1\n",
    "        self.position[:,0:2] = -1\n",
    "        self.position[-2:, :] = -1\n",
    "        self.position[:,-2:] = -1\n",
    "        self.board[self.x,self.y] = 0\n",
    "        self.t = 0\n",
    "\n",
    "        self.malus_position = np.zeros((self.grid_size, self.grid_size))\n",
    "        #At the begining the malus_position array must be setted to zero\n",
    "        state = np.concatenate((self.malus_position.reshape(self.grid_size, self.grid_size,1),\n",
    "                                        self.board.reshape(self.grid_size, self.grid_size,1),\n",
    "                                self.position.reshape(self.grid_size, self.grid_size,1)),axis=2)\n",
    "\n",
    "        state = state[self.x - 2:self.x + 3, self.y - 2:self.y + 3, :]\n",
    "        return state\n",
    "    \n"
   ]
  },
  {
   "cell_type": "code",
   "execution_count": 165,
   "metadata": {},
   "outputs": [
    {
     "name": "stdout",
     "output_type": "stream",
     "text": [
      "Epoch 000/025 | Loss 0.0139 | Win/lose count 9.0/27.60000000000008 (-18.60000000000008)\n",
      "Epoch 001/025 | Loss 0.0138 | Win/lose count 10.5/22.600000000000026 (-12.100000000000026)\n",
      "Epoch 002/025 | Loss 0.0132 | Win/lose count 8.5/26.800000000000033 (-18.300000000000033)\n",
      "Epoch 003/025 | Loss 0.0062 | Win/lose count 15.0/19.00000000000001 (-4.000000000000011)\n",
      "Epoch 004/025 | Loss 0.0059 | Win/lose count 10.0/26.400000000000066 (-16.400000000000066)\n",
      "Epoch 005/025 | Loss 0.0041 | Win/lose count 20.5/15.599999999999971 (4.900000000000029)\n",
      "Epoch 006/025 | Loss 0.0069 | Win/lose count 10.0/20.899999999999995 (-10.899999999999995)\n",
      "Epoch 007/025 | Loss 0.0235 | Win/lose count 16.5/23.90000000000006 (-7.400000000000059)\n",
      "Epoch 008/025 | Loss 0.0053 | Win/lose count 14.5/22.10000000000003 (-7.60000000000003)\n",
      "Epoch 009/025 | Loss 0.0069 | Win/lose count 18.0/18.600000000000016 (-0.6000000000000156)\n",
      "Epoch 010/025 | Loss 0.0058 | Win/lose count 20.5/17.999999999999975 (2.500000000000025)\n",
      "Epoch 011/025 | Loss 0.0062 | Win/lose count 22.5/15.599999999999975 (6.900000000000025)\n",
      "Epoch 012/025 | Loss 0.0081 | Win/lose count 20.0/19.10000000000001 (0.8999999999999915)\n",
      "Epoch 013/025 | Loss 0.0440 | Win/lose count 14.5/18.90000000000001 (-4.400000000000009)\n",
      "Epoch 014/025 | Loss 0.0037 | Win/lose count 18.0/15.89999999999997 (2.10000000000003)\n",
      "Epoch 015/025 | Loss 0.0065 | Win/lose count 20.0/15.699999999999976 (4.300000000000024)\n",
      "Epoch 016/025 | Loss 0.0078 | Win/lose count 16.5/18.499999999999975 (-1.9999999999999751)\n",
      "Epoch 017/025 | Loss 0.0088 | Win/lose count 26.0/15.799999999999981 (10.200000000000019)\n",
      "Epoch 018/025 | Loss 0.0112 | Win/lose count 18.0/16.199999999999974 (1.8000000000000256)\n",
      "Epoch 019/025 | Loss 0.0076 | Win/lose count 20.5/17.399999999999984 (3.1000000000000156)\n",
      "Epoch 020/025 | Loss 0.0097 | Win/lose count 21.0/11.19999999999998 (9.80000000000002)\n",
      "Epoch 021/025 | Loss 0.0043 | Win/lose count 22.0/15.69999999999997 (6.300000000000029)\n",
      "Epoch 022/025 | Loss 0.0076 | Win/lose count 22.0/13.299999999999978 (8.700000000000022)\n",
      "Epoch 023/025 | Loss 0.0139 | Win/lose count 19.5/13.99999999999997 (5.50000000000003)\n",
      "Epoch 024/025 | Loss 0.0052 | Win/lose count 21.5/14.899999999999965 (6.600000000000035)\n"
     ]
    },
    {
     "data": {
      "text/html": [
       "<video alt=\"test\" controls>\n",
       "                <source src=\"data:video/mp4;base64,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\" type=\"video/mp4\" />\n",
       "             </video>"
      ],
      "text/plain": [
       "<IPython.core.display.HTML object>"
      ]
     },
     "execution_count": 165,
     "metadata": {},
     "output_type": "execute_result"
    }
   ],
   "source": [
    "# Training\n",
    "epochs_train = 25\n",
    "env = EnvironmentExploring(grid_size=size, max_time=T, temperature=0.3)\n",
    "agent = DQN_CNN(size, lr=.1, epsilon =0.8, memory_size=2000, batch_size = 32,n_state=3) \n",
    "train_explore(agent, env, epochs_train,decay_parameter_epsilon=0.1, prefix='cnn_train_explore')\n",
    "HTML(display_videos('cnn_train_explore10.mp4'))  #we can see that epsilon decreases with time\n"
   ]
  },
  {
   "cell_type": "code",
   "execution_count": 166,
   "metadata": {},
   "outputs": [
    {
     "name": "stdout",
     "output_type": "stream",
     "text": [
      "Win/lose count 11.0/0. Average score (11.0)\n",
      "Win/lose count 19.5/0. Average score (15.25)\n",
      "Win/lose count 5.5/0. Average score (12.0)\n",
      "Win/lose count 20.5/4.0. Average score (13.125)\n",
      "Win/lose count 18.0/0. Average score (14.1)\n",
      "Win/lose count 16.5/1.0. Average score (14.333333333333334)\n",
      "Win/lose count 19.5/0. Average score (15.071428571428571)\n",
      "Win/lose count 12.5/0. Average score (14.75)\n",
      "Win/lose count 20.0/0. Average score (15.333333333333334)\n",
      "Win/lose count 21.0/1.0. Average score (15.8)\n",
      "Final score: 15.8\n"
     ]
    }
   ],
   "source": [
    "# Evaluation\n",
    "test(agent,env,epochs_test,prefix='cnn_test_explore')\n",
    "\n"
   ]
  },
  {
   "cell_type": "code",
   "execution_count": null,
   "metadata": {},
   "outputs": [],
   "source": [
    "HTML(display_videos('cnn_test_explore10.mp4'))"
   ]
  },
  {
   "cell_type": "markdown",
   "metadata": {},
   "source": [
    ">As we can see from the video, this approach widely improves the outcome: the agent is no more stuck in a corner of the map.\n"
   ]
  },
  {
   "cell_type": "markdown",
   "metadata": {},
   "source": [
    "***\n",
    "***\n",
    "__BONUS question__ Use the expert DQN from the previous question to generate some winning games. Train a model that mimicks its behavior. Compare the performances."
   ]
  },
  {
   "cell_type": "code",
   "execution_count": 167,
   "metadata": {},
   "outputs": [],
   "source": [
    "class DQN_Mimicks(Agent):\n",
    "    def __init__(self, grid_size,  epsilon = 0.1, memory_size=100, batch_size = 16,n_state=2):\n",
    "        super(DQN_Mimicks, self).__init__(epsilon = epsilon)\n",
    "        # Discount value\n",
    "        self.discount = 0.99\n",
    "        self.grid_size = grid_size\n",
    "        self.n_state = n_state\n",
    "        self.memory = Memory(memory_size)\n",
    "        self.batch_size = batch_size\n",
    "\n",
    "    def learned_act(self, s):\n",
    "        return np.argmax(self.model.predict(s.reshape([1,s.shape[0],s.shape[1],s.shape[2]]))[0,:])\n",
    "\n",
    "    def reinforce(self, s_, a_):\n",
    "        # Two steps: first memorize the states, second learn from the pool\n",
    "        self.memory.remember([s_[:,:,1:], a_]) #here we're just gonna mimick the expert's behaviour so we're considering state s and anction a\n",
    "        input_states = np.zeros((self.batch_size, 5,5,self.n_state))\n",
    "        target_q = np.zeros((self.batch_size, 4))\n",
    "        \n",
    "        for i in range(self.batch_size):\n",
    "            s_, a_ = self.memory.random_access()\n",
    "            input_states[i] = s_\n",
    "            target_q[i,a_] = 10 \n",
    "        l = self.model.train_on_batch(input_states, target_q)\n",
    "\n",
    "\n",
    "        return l\n",
    "\n",
    "    def save(self,name_weights='model.h5',name_model='model.json'):\n",
    "        self.model.save_weights(name_weights, overwrite=True)\n",
    "        with open(name_model, \"w\") as outfile:\n",
    "            json.dump(self.model.to_json(), outfile)\n",
    "            \n",
    "    def load(self,name_weights='model.h5',name_model='model.json'):\n",
    "        with open(name_model, \"r\") as jfile:\n",
    "            model = model_from_json(json.load(jfile))\n",
    "        model.load_weights(name_weights)\n",
    "        model.compile(\"sgd\", \"mse\")\n",
    "        self.model = model\n",
    "            \n",
    "class DQN_CNN_Mimicks(DQN_Mimicks):\n",
    "    def __init__(self, *args,lr=0.1,**kwargs):\n",
    "        super(DQN_CNN_Mimicks, self).__init__(*args,**kwargs)\n",
    "        \n",
    "        model = Sequential()\n",
    "        model.add(Conv2D(60,(2,2),input_shape=(5,5,self.n_state,),activation='relu')) \n",
    "        model.add(Conv2D(30,(2,2),input_shape=(5,5,self.n_state,),activation='relu')) \n",
    "        model.add(Flatten())\n",
    "        model.add(Dense(4))\n",
    "        model.compile(sgd(lr=lr, decay=1e-4, momentum=0.0), \"mse\")\n",
    "        self.model = model"
   ]
  },
  {
   "cell_type": "code",
   "execution_count": 168,
   "metadata": {},
   "outputs": [],
   "source": [
    "def train_mimicks(expert,agent,env,epoch,prefix=''): #same as before but we add expert\n",
    "    # Number of won games\n",
    "    score = 0\n",
    "    loss = 0    \n",
    "    \n",
    "    for e in range(epoch):\n",
    "        # At each epoch, we restart to a fresh game and get the initial state\n",
    "        state = env.reset()\n",
    "        # This assumes that the games will terminate\n",
    "        game_over = False\n",
    "\n",
    "        win = 0\n",
    "        lose = 0\n",
    "        while not game_over:\n",
    "            # The agent performs an action\n",
    "            action = expert.act(state,train=False)\n",
    "\n",
    "            # Apply an action to the environment, get the next state, the reward\n",
    "            # and if the games end\n",
    "            prev_state = state\n",
    "            state, reward, game_over = env.act(action)\n",
    "\n",
    "            # Update the counters\n",
    "            if reward > 0:\n",
    "                win = win + reward\n",
    "            if reward < 0:\n",
    "                lose = lose -reward\n",
    "\n",
    "            # Apply the reinforcement strategy\n",
    "            loss = agent.reinforce(prev_state,  action)\n",
    "\n",
    "        # Save as a mp4\n",
    "        if e % 10 == 0:\n",
    "            env.draw(prefix+str(e))\n",
    "\n",
    "        # Update stats\n",
    "        score += win-lose\n",
    "\n",
    "        print(\"Epoch {:03d}/{:03d} | Loss {:.4f} | Win/lose count {}/{} ({})\"\n",
    "              .format(e, epoch, loss, win, lose, win-lose))\n",
    "        agent.save(name_weights=prefix+'model.h5',name_model=prefix+'model.json')\n",
    "    print('Final score: '+str(score/epoch))"
   ]
  },
  {
   "cell_type": "code",
   "execution_count": 169,
   "metadata": {},
   "outputs": [
    {
     "name": "stdout",
     "output_type": "stream",
     "text": [
      "Epoch 000/025 | Loss 0.6772 | Win/lose count 5.5/0 (5.5)\n",
      "Epoch 001/025 | Loss 0.8755 | Win/lose count 4.0/0 (4.0)\n",
      "Epoch 002/025 | Loss 2.4195 | Win/lose count 13.5/0 (13.5)\n",
      "Epoch 003/025 | Loss 2.6044 | Win/lose count 26.5/2.0 (24.5)\n",
      "Epoch 004/025 | Loss 4.9141 | Win/lose count 25.0/1.0 (24.0)\n",
      "Epoch 005/025 | Loss 3.7443 | Win/lose count 10.0/1.0 (9.0)\n",
      "Epoch 006/025 | Loss 3.3339 | Win/lose count 14.5/0 (14.5)\n",
      "Epoch 007/025 | Loss 3.2899 | Win/lose count 19.0/0 (19.0)\n",
      "Epoch 008/025 | Loss 3.5582 | Win/lose count 19.5/1.0 (18.5)\n",
      "Epoch 009/025 | Loss 2.4768 | Win/lose count 19.5/1.0 (18.5)\n",
      "Epoch 010/025 | Loss 4.8687 | Win/lose count 26.5/1.0 (25.5)\n",
      "Epoch 011/025 | Loss 3.8920 | Win/lose count 18.0/0 (18.0)\n",
      "Epoch 012/025 | Loss 4.9549 | Win/lose count 17.5/0 (17.5)\n",
      "Epoch 013/025 | Loss 4.6699 | Win/lose count 16.0/0 (16.0)\n",
      "Epoch 014/025 | Loss 4.6236 | Win/lose count 19.0/0 (19.0)\n",
      "Epoch 015/025 | Loss 2.2386 | Win/lose count 17.5/0 (17.5)\n",
      "Epoch 016/025 | Loss 5.0102 | Win/lose count 30.5/1.0 (29.5)\n",
      "Epoch 017/025 | Loss 2.7703 | Win/lose count 11.0/0 (11.0)\n",
      "Epoch 018/025 | Loss 2.9725 | Win/lose count 18.0/0 (18.0)\n",
      "Epoch 019/025 | Loss 3.0411 | Win/lose count 15.5/1.0 (14.5)\n",
      "Epoch 020/025 | Loss 3.6905 | Win/lose count 7.5/0 (7.5)\n",
      "Epoch 021/025 | Loss 2.1218 | Win/lose count 18.0/0 (18.0)\n",
      "Epoch 022/025 | Loss 1.7579 | Win/lose count 19.0/1.0 (18.0)\n",
      "Epoch 023/025 | Loss 0.7160 | Win/lose count 17.5/1.0 (16.5)\n",
      "Epoch 024/025 | Loss 2.2431 | Win/lose count 20.5/0 (20.5)\n",
      "Final score: 16.72\n"
     ]
    }
   ],
   "source": [
    "epochs_train = 25\n",
    "expert = agent\n",
    "agent_n = DQN_CNN_Mimicks(size, lr=.1, epsilon = 0.1, memory_size=2000, batch_size = 32,n_state=2)\n",
    "env = EnvironmentExploring(grid_size=size, max_time=T, temperature=0.3)\n",
    "train_mimicks(expert,agent_n, env, epochs_train, prefix='cnn_train_mimick')"
   ]
  },
  {
   "cell_type": "code",
   "execution_count": 170,
   "metadata": {},
   "outputs": [
    {
     "name": "stdout",
     "output_type": "stream",
     "text": [
      "Win/lose count 0.5/0. Average score (0.5)\n",
      "Win/lose count 9.0/0. Average score (4.75)\n",
      "Win/lose count 5.0/0. Average score (4.833333333333333)\n",
      "Win/lose count 17.5/3.0. Average score (7.25)\n",
      "Win/lose count 18.5/1.0. Average score (9.3)\n",
      "Win/lose count 11.5/0. Average score (9.666666666666666)\n",
      "Win/lose count 11.0/1.0. Average score (9.714285714285714)\n",
      "Win/lose count 14.0/2.0. Average score (10.0)\n",
      "Win/lose count 9.0/2.0. Average score (9.666666666666666)\n",
      "Win/lose count 6.5/0. Average score (9.35)\n",
      "Final score: 9.35\n"
     ]
    }
   ],
   "source": [
    "env_test = Environment(grid_size=size, max_time=T,temperature=0.3)\n",
    "test(agent_n,env_test,epochs_test,prefix='cnn_test_mimick')"
   ]
  },
  {
   "cell_type": "code",
   "execution_count": null,
   "metadata": {},
   "outputs": [],
   "source": [
    "HTML(display_videos('cnn_test_mimick10.mp4'))"
   ]
  },
  {
   "cell_type": "markdown",
   "metadata": {},
   "source": [
    ">What we can see is that this approach performes better than the one without much exploration but as this is just an imitation of the expert, it is worse than our previous attempt where we managed to incorporate a decreasing epsilon-greedy exploration."
   ]
  },
  {
   "cell_type": "markdown",
   "metadata": {},
   "source": [
    "***"
   ]
  }
 ],
 "metadata": {
  "kernelspec": {
   "display_name": "Python 3",
   "language": "python",
   "name": "python3"
  },
  "language_info": {
   "codemirror_mode": {
    "name": "ipython",
    "version": 3
   },
   "file_extension": ".py",
   "mimetype": "text/x-python",
   "name": "python",
   "nbconvert_exporter": "python",
   "pygments_lexer": "ipython3",
   "version": "3.6.5"
  }
 },
 "nbformat": 4,
 "nbformat_minor": 2
}
